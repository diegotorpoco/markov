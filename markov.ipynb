{
 "cells": [
  {
   "cell_type": "code",
   "execution_count": 1,
   "metadata": {},
   "outputs": [],
   "source": [
    "import yfinance as yf\n",
    "import numpy as np\n",
    "import pandas as pd \n",
    "import matplotlib.pyplot as plt"
   ]
  },
  {
   "cell_type": "code",
   "execution_count": 7,
   "metadata": {},
   "outputs": [
    {
     "name": "stderr",
     "output_type": "stream",
     "text": [
      "[*********************100%%**********************]  1 of 1 completed\n"
     ]
    },
    {
     "data": {
      "text/html": [
       "<div>\n",
       "<style scoped>\n",
       "    .dataframe tbody tr th:only-of-type {\n",
       "        vertical-align: middle;\n",
       "    }\n",
       "\n",
       "    .dataframe tbody tr th {\n",
       "        vertical-align: top;\n",
       "    }\n",
       "\n",
       "    .dataframe thead th {\n",
       "        text-align: right;\n",
       "    }\n",
       "</style>\n",
       "<table border=\"1\" class=\"dataframe\">\n",
       "  <thead>\n",
       "    <tr style=\"text-align: right;\">\n",
       "      <th></th>\n",
       "      <th>Open</th>\n",
       "      <th>High</th>\n",
       "      <th>Low</th>\n",
       "      <th>Close</th>\n",
       "      <th>Adj Close</th>\n",
       "      <th>Volume</th>\n",
       "    </tr>\n",
       "    <tr>\n",
       "      <th>Date</th>\n",
       "      <th></th>\n",
       "      <th></th>\n",
       "      <th></th>\n",
       "      <th></th>\n",
       "      <th></th>\n",
       "      <th></th>\n",
       "    </tr>\n",
       "  </thead>\n",
       "  <tbody>\n",
       "    <tr>\n",
       "      <th>2019-01-01</th>\n",
       "      <td>3746.713379</td>\n",
       "      <td>3850.913818</td>\n",
       "      <td>3707.231201</td>\n",
       "      <td>3843.520020</td>\n",
       "      <td>3843.520020</td>\n",
       "      <td>4324200990</td>\n",
       "    </tr>\n",
       "    <tr>\n",
       "      <th>2019-01-02</th>\n",
       "      <td>3849.216309</td>\n",
       "      <td>3947.981201</td>\n",
       "      <td>3817.409424</td>\n",
       "      <td>3943.409424</td>\n",
       "      <td>3943.409424</td>\n",
       "      <td>5244856836</td>\n",
       "    </tr>\n",
       "    <tr>\n",
       "      <th>2019-01-03</th>\n",
       "      <td>3931.048584</td>\n",
       "      <td>3935.685059</td>\n",
       "      <td>3826.222900</td>\n",
       "      <td>3836.741211</td>\n",
       "      <td>3836.741211</td>\n",
       "      <td>4530215219</td>\n",
       "    </tr>\n",
       "    <tr>\n",
       "      <th>2019-01-04</th>\n",
       "      <td>3832.040039</td>\n",
       "      <td>3865.934570</td>\n",
       "      <td>3783.853760</td>\n",
       "      <td>3857.717529</td>\n",
       "      <td>3857.717529</td>\n",
       "      <td>4847965467</td>\n",
       "    </tr>\n",
       "    <tr>\n",
       "      <th>2019-01-05</th>\n",
       "      <td>3851.973877</td>\n",
       "      <td>3904.903076</td>\n",
       "      <td>3836.900146</td>\n",
       "      <td>3845.194580</td>\n",
       "      <td>3845.194580</td>\n",
       "      <td>5137609824</td>\n",
       "    </tr>\n",
       "    <tr>\n",
       "      <th>...</th>\n",
       "      <td>...</td>\n",
       "      <td>...</td>\n",
       "      <td>...</td>\n",
       "      <td>...</td>\n",
       "      <td>...</td>\n",
       "      <td>...</td>\n",
       "    </tr>\n",
       "    <tr>\n",
       "      <th>2024-05-16</th>\n",
       "      <td>66256.109375</td>\n",
       "      <td>66712.429688</td>\n",
       "      <td>64613.054688</td>\n",
       "      <td>65231.582031</td>\n",
       "      <td>65231.582031</td>\n",
       "      <td>31573077994</td>\n",
       "    </tr>\n",
       "    <tr>\n",
       "      <th>2024-05-17</th>\n",
       "      <td>65231.296875</td>\n",
       "      <td>67459.460938</td>\n",
       "      <td>65119.316406</td>\n",
       "      <td>67051.875000</td>\n",
       "      <td>67051.875000</td>\n",
       "      <td>28031279310</td>\n",
       "    </tr>\n",
       "    <tr>\n",
       "      <th>2024-05-18</th>\n",
       "      <td>67066.210938</td>\n",
       "      <td>67387.328125</td>\n",
       "      <td>66663.500000</td>\n",
       "      <td>66940.804688</td>\n",
       "      <td>66940.804688</td>\n",
       "      <td>16712277406</td>\n",
       "    </tr>\n",
       "    <tr>\n",
       "      <th>2024-05-19</th>\n",
       "      <td>66937.929688</td>\n",
       "      <td>67694.296875</td>\n",
       "      <td>65937.179688</td>\n",
       "      <td>66278.367188</td>\n",
       "      <td>66278.367188</td>\n",
       "      <td>19249094538</td>\n",
       "    </tr>\n",
       "    <tr>\n",
       "      <th>2024-05-20</th>\n",
       "      <td>66278.742188</td>\n",
       "      <td>71483.562500</td>\n",
       "      <td>66086.171875</td>\n",
       "      <td>71448.195312</td>\n",
       "      <td>71448.195312</td>\n",
       "      <td>43850655717</td>\n",
       "    </tr>\n",
       "  </tbody>\n",
       "</table>\n",
       "<p>1967 rows × 6 columns</p>\n",
       "</div>"
      ],
      "text/plain": [
       "                    Open          High           Low         Close  \\\n",
       "Date                                                                 \n",
       "2019-01-01   3746.713379   3850.913818   3707.231201   3843.520020   \n",
       "2019-01-02   3849.216309   3947.981201   3817.409424   3943.409424   \n",
       "2019-01-03   3931.048584   3935.685059   3826.222900   3836.741211   \n",
       "2019-01-04   3832.040039   3865.934570   3783.853760   3857.717529   \n",
       "2019-01-05   3851.973877   3904.903076   3836.900146   3845.194580   \n",
       "...                  ...           ...           ...           ...   \n",
       "2024-05-16  66256.109375  66712.429688  64613.054688  65231.582031   \n",
       "2024-05-17  65231.296875  67459.460938  65119.316406  67051.875000   \n",
       "2024-05-18  67066.210938  67387.328125  66663.500000  66940.804688   \n",
       "2024-05-19  66937.929688  67694.296875  65937.179688  66278.367188   \n",
       "2024-05-20  66278.742188  71483.562500  66086.171875  71448.195312   \n",
       "\n",
       "               Adj Close       Volume  \n",
       "Date                                   \n",
       "2019-01-01   3843.520020   4324200990  \n",
       "2019-01-02   3943.409424   5244856836  \n",
       "2019-01-03   3836.741211   4530215219  \n",
       "2019-01-04   3857.717529   4847965467  \n",
       "2019-01-05   3845.194580   5137609824  \n",
       "...                  ...          ...  \n",
       "2024-05-16  65231.582031  31573077994  \n",
       "2024-05-17  67051.875000  28031279310  \n",
       "2024-05-18  66940.804688  16712277406  \n",
       "2024-05-19  66278.367188  19249094538  \n",
       "2024-05-20  71448.195312  43850655717  \n",
       "\n",
       "[1967 rows x 6 columns]"
      ]
     },
     "execution_count": 7,
     "metadata": {},
     "output_type": "execute_result"
    }
   ],
   "source": [
    "btc = pd.DataFrame(yf.download(\"BTC-USD\",period=\"1d\",start=\"2019-01-01\",end=\"2024-05-21\"))\n",
    "btc"
   ]
  },
  {
   "cell_type": "code",
   "execution_count": 8,
   "metadata": {},
   "outputs": [
    {
     "data": {
      "text/plain": [
       "<Axes: xlabel='Date'>"
      ]
     },
     "execution_count": 8,
     "metadata": {},
     "output_type": "execute_result"
    },
    {
     "data": {
      "image/png": "[encoded data removed]",
      "text/plain": [
       "<Figure size 640x480 with 1 Axes>"
      ]
     },
     "metadata": {},
     "output_type": "display_data"
    }
   ],
   "source": [
    "btc['Close'].plot(kind='line')"
   ]
  },
  {
   "cell_type": "code",
   "execution_count": 9,
   "metadata": {},
   "outputs": [
    {
     "data": {
      "text/html": [
       "<div>\n",
       "<style scoped>\n",
       "    .dataframe tbody tr th:only-of-type {\n",
       "        vertical-align: middle;\n",
       "    }\n",
       "\n",
       "    .dataframe tbody tr th {\n",
       "        vertical-align: top;\n",
       "    }\n",
       "\n",
       "    .dataframe thead th {\n",
       "        text-align: right;\n",
       "    }\n",
       "</style>\n",
       "<table border=\"1\" class=\"dataframe\">\n",
       "  <thead>\n",
       "    <tr style=\"text-align: right;\">\n",
       "      <th></th>\n",
       "      <th>Open</th>\n",
       "      <th>High</th>\n",
       "      <th>Low</th>\n",
       "      <th>Close</th>\n",
       "      <th>Adj Close</th>\n",
       "      <th>Volume</th>\n",
       "      <th>pct_change</th>\n",
       "    </tr>\n",
       "    <tr>\n",
       "      <th>Date</th>\n",
       "      <th></th>\n",
       "      <th></th>\n",
       "      <th></th>\n",
       "      <th></th>\n",
       "      <th></th>\n",
       "      <th></th>\n",
       "      <th></th>\n",
       "    </tr>\n",
       "  </thead>\n",
       "  <tbody>\n",
       "    <tr>\n",
       "      <th>2019-01-01</th>\n",
       "      <td>3746.713379</td>\n",
       "      <td>3850.913818</td>\n",
       "      <td>3707.231201</td>\n",
       "      <td>3843.520020</td>\n",
       "      <td>3843.520020</td>\n",
       "      <td>4324200990</td>\n",
       "      <td>NaN</td>\n",
       "    </tr>\n",
       "    <tr>\n",
       "      <th>2019-01-02</th>\n",
       "      <td>3849.216309</td>\n",
       "      <td>3947.981201</td>\n",
       "      <td>3817.409424</td>\n",
       "      <td>3943.409424</td>\n",
       "      <td>3943.409424</td>\n",
       "      <td>5244856836</td>\n",
       "      <td>0.025989</td>\n",
       "    </tr>\n",
       "  </tbody>\n",
       "</table>\n",
       "</div>"
      ],
      "text/plain": [
       "                   Open         High          Low        Close    Adj Close  \\\n",
       "Date                                                                          \n",
       "2019-01-01  3746.713379  3850.913818  3707.231201  3843.520020  3843.520020   \n",
       "2019-01-02  3849.216309  3947.981201  3817.409424  3943.409424  3943.409424   \n",
       "\n",
       "                Volume  pct_change  \n",
       "Date                                \n",
       "2019-01-01  4324200990         NaN  \n",
       "2019-01-02  5244856836    0.025989  "
      ]
     },
     "execution_count": 9,
     "metadata": {},
     "output_type": "execute_result"
    }
   ],
   "source": [
    "btc['pct_change'] = btc['Close'].pct_change()\n",
    "btc.head(2)"
   ]
  },
  {
   "cell_type": "code",
   "execution_count": 10,
   "metadata": {},
   "outputs": [
    {
     "data": {
      "text/html": [
       "<div>\n",
       "<style scoped>\n",
       "    .dataframe tbody tr th:only-of-type {\n",
       "        vertical-align: middle;\n",
       "    }\n",
       "\n",
       "    .dataframe tbody tr th {\n",
       "        vertical-align: top;\n",
       "    }\n",
       "\n",
       "    .dataframe thead th {\n",
       "        text-align: right;\n",
       "    }\n",
       "</style>\n",
       "<table border=\"1\" class=\"dataframe\">\n",
       "  <thead>\n",
       "    <tr style=\"text-align: right;\">\n",
       "      <th></th>\n",
       "      <th>Open</th>\n",
       "      <th>High</th>\n",
       "      <th>Low</th>\n",
       "      <th>Close</th>\n",
       "      <th>Adj Close</th>\n",
       "      <th>Volume</th>\n",
       "      <th>pct_change</th>\n",
       "      <th>down</th>\n",
       "    </tr>\n",
       "    <tr>\n",
       "      <th>Date</th>\n",
       "      <th></th>\n",
       "      <th></th>\n",
       "      <th></th>\n",
       "      <th></th>\n",
       "      <th></th>\n",
       "      <th></th>\n",
       "      <th></th>\n",
       "      <th></th>\n",
       "    </tr>\n",
       "  </thead>\n",
       "  <tbody>\n",
       "    <tr>\n",
       "      <th>2019-01-01</th>\n",
       "      <td>3746.713379</td>\n",
       "      <td>3850.913818</td>\n",
       "      <td>3707.231201</td>\n",
       "      <td>3843.520020</td>\n",
       "      <td>3843.520020</td>\n",
       "      <td>4324200990</td>\n",
       "      <td>NaN</td>\n",
       "      <td>0</td>\n",
       "    </tr>\n",
       "    <tr>\n",
       "      <th>2019-01-02</th>\n",
       "      <td>3849.216309</td>\n",
       "      <td>3947.981201</td>\n",
       "      <td>3817.409424</td>\n",
       "      <td>3943.409424</td>\n",
       "      <td>3943.409424</td>\n",
       "      <td>5244856836</td>\n",
       "      <td>0.025989</td>\n",
       "      <td>0</td>\n",
       "    </tr>\n",
       "    <tr>\n",
       "      <th>2019-01-03</th>\n",
       "      <td>3931.048584</td>\n",
       "      <td>3935.685059</td>\n",
       "      <td>3826.222900</td>\n",
       "      <td>3836.741211</td>\n",
       "      <td>3836.741211</td>\n",
       "      <td>4530215219</td>\n",
       "      <td>-0.027050</td>\n",
       "      <td>1</td>\n",
       "    </tr>\n",
       "    <tr>\n",
       "      <th>2019-01-04</th>\n",
       "      <td>3832.040039</td>\n",
       "      <td>3865.934570</td>\n",
       "      <td>3783.853760</td>\n",
       "      <td>3857.717529</td>\n",
       "      <td>3857.717529</td>\n",
       "      <td>4847965467</td>\n",
       "      <td>0.005467</td>\n",
       "      <td>0</td>\n",
       "    </tr>\n",
       "    <tr>\n",
       "      <th>2019-01-05</th>\n",
       "      <td>3851.973877</td>\n",
       "      <td>3904.903076</td>\n",
       "      <td>3836.900146</td>\n",
       "      <td>3845.194580</td>\n",
       "      <td>3845.194580</td>\n",
       "      <td>5137609824</td>\n",
       "      <td>-0.003246</td>\n",
       "      <td>1</td>\n",
       "    </tr>\n",
       "    <tr>\n",
       "      <th>2019-01-06</th>\n",
       "      <td>3836.519043</td>\n",
       "      <td>4093.297363</td>\n",
       "      <td>3826.513184</td>\n",
       "      <td>4076.632568</td>\n",
       "      <td>4076.632568</td>\n",
       "      <td>5597027440</td>\n",
       "      <td>0.060189</td>\n",
       "      <td>0</td>\n",
       "    </tr>\n",
       "    <tr>\n",
       "      <th>2019-01-07</th>\n",
       "      <td>4078.584961</td>\n",
       "      <td>4092.613525</td>\n",
       "      <td>4020.894043</td>\n",
       "      <td>4025.248291</td>\n",
       "      <td>4025.248291</td>\n",
       "      <td>5228625637</td>\n",
       "      <td>-0.012605</td>\n",
       "      <td>1</td>\n",
       "    </tr>\n",
       "    <tr>\n",
       "      <th>2019-01-08</th>\n",
       "      <td>4028.472168</td>\n",
       "      <td>4109.020996</td>\n",
       "      <td>3996.955322</td>\n",
       "      <td>4030.847900</td>\n",
       "      <td>4030.847900</td>\n",
       "      <td>5306593305</td>\n",
       "      <td>0.001391</td>\n",
       "      <td>0</td>\n",
       "    </tr>\n",
       "    <tr>\n",
       "      <th>2019-01-09</th>\n",
       "      <td>4031.552002</td>\n",
       "      <td>4068.403564</td>\n",
       "      <td>4022.662842</td>\n",
       "      <td>4035.296387</td>\n",
       "      <td>4035.296387</td>\n",
       "      <td>5115905225</td>\n",
       "      <td>0.001104</td>\n",
       "      <td>0</td>\n",
       "    </tr>\n",
       "    <tr>\n",
       "      <th>2019-01-10</th>\n",
       "      <td>4034.411377</td>\n",
       "      <td>4064.066650</td>\n",
       "      <td>3659.174561</td>\n",
       "      <td>3678.924561</td>\n",
       "      <td>3678.924561</td>\n",
       "      <td>6874143796</td>\n",
       "      <td>-0.088314</td>\n",
       "      <td>1</td>\n",
       "    </tr>\n",
       "  </tbody>\n",
       "</table>\n",
       "</div>"
      ],
      "text/plain": [
       "                   Open         High          Low        Close    Adj Close  \\\n",
       "Date                                                                          \n",
       "2019-01-01  3746.713379  3850.913818  3707.231201  3843.520020  3843.520020   \n",
       "2019-01-02  3849.216309  3947.981201  3817.409424  3943.409424  3943.409424   \n",
       "2019-01-03  3931.048584  3935.685059  3826.222900  3836.741211  3836.741211   \n",
       "2019-01-04  3832.040039  3865.934570  3783.853760  3857.717529  3857.717529   \n",
       "2019-01-05  3851.973877  3904.903076  3836.900146  3845.194580  3845.194580   \n",
       "2019-01-06  3836.519043  4093.297363  3826.513184  4076.632568  4076.632568   \n",
       "2019-01-07  4078.584961  4092.613525  4020.894043  4025.248291  4025.248291   \n",
       "2019-01-08  4028.472168  4109.020996  3996.955322  4030.847900  4030.847900   \n",
       "2019-01-09  4031.552002  4068.403564  4022.662842  4035.296387  4035.296387   \n",
       "2019-01-10  4034.411377  4064.066650  3659.174561  3678.924561  3678.924561   \n",
       "\n",
       "                Volume  pct_change  down  \n",
       "Date                                      \n",
       "2019-01-01  4324200990         NaN     0  \n",
       "2019-01-02  5244856836    0.025989     0  \n",
       "2019-01-03  4530215219   -0.027050     1  \n",
       "2019-01-04  4847965467    0.005467     0  \n",
       "2019-01-05  5137609824   -0.003246     1  \n",
       "2019-01-06  5597027440    0.060189     0  \n",
       "2019-01-07  5228625637   -0.012605     1  \n",
       "2019-01-08  5306593305    0.001391     0  \n",
       "2019-01-09  5115905225    0.001104     0  \n",
       "2019-01-10  6874143796   -0.088314     1  "
      ]
     },
     "execution_count": 10,
     "metadata": {},
     "output_type": "execute_result"
    }
   ],
   "source": [
    "btc['down'] = np.where(btc['pct_change'] < 0 ,1,0)\n",
    "btc.head(10)"
   ]
  },
  {
   "cell_type": "code",
   "execution_count": 17,
   "metadata": {},
   "outputs": [
    {
     "data": {
      "text/plain": [
       "Date\n",
       "2019-01-01     True\n",
       "2019-01-02    False\n",
       "2019-01-03     True\n",
       "2019-01-04     True\n",
       "2019-01-05     True\n",
       "2019-01-06     True\n",
       "2019-01-07     True\n",
       "2019-01-08     True\n",
       "2019-01-09    False\n",
       "2019-01-10     True\n",
       "Name: down, dtype: bool"
      ]
     },
     "execution_count": 17,
     "metadata": {},
     "output_type": "execute_result"
    }
   ],
   "source": [
    "(btc['down'] != btc['down'].shift(1)).head(10) #determine if actual is different than the previous one, False means days today and yesterday have been loss days"
   ]
  },
  {
   "cell_type": "code",
   "execution_count": 18,
   "metadata": {},
   "outputs": [
    {
     "data": {
      "text/plain": [
       "Date\n",
       "2019-01-01    1\n",
       "2019-01-02    1\n",
       "2019-01-03    2\n",
       "2019-01-04    3\n",
       "2019-01-05    4\n",
       "2019-01-06    5\n",
       "2019-01-07    6\n",
       "2019-01-08    7\n",
       "2019-01-09    7\n",
       "2019-01-10    8\n",
       "Name: down, dtype: int64"
      ]
     },
     "execution_count": 18,
     "metadata": {},
     "output_type": "execute_result"
    }
   ],
   "source": [
    "((btc['down'] != btc['down'].shift(1)).cumsum()).head(10) #si el numero cambia es porque, ha habido un candle change"
   ]
  },
  {
   "cell_type": "code",
   "execution_count": 28,
   "metadata": {},
   "outputs": [
    {
     "data": {
      "text/html": [
       "<div>\n",
       "<style scoped>\n",
       "    .dataframe tbody tr th:only-of-type {\n",
       "        vertical-align: middle;\n",
       "    }\n",
       "\n",
       "    .dataframe tbody tr th {\n",
       "        vertical-align: top;\n",
       "    }\n",
       "\n",
       "    .dataframe thead th {\n",
       "        text-align: right;\n",
       "    }\n",
       "</style>\n",
       "<table border=\"1\" class=\"dataframe\">\n",
       "  <thead>\n",
       "    <tr style=\"text-align: right;\">\n",
       "      <th></th>\n",
       "      <th>Open</th>\n",
       "      <th>High</th>\n",
       "      <th>Low</th>\n",
       "      <th>Close</th>\n",
       "      <th>Adj Close</th>\n",
       "      <th>Volume</th>\n",
       "      <th>pct_change</th>\n",
       "      <th>down</th>\n",
       "      <th>candle_change</th>\n",
       "    </tr>\n",
       "    <tr>\n",
       "      <th>Date</th>\n",
       "      <th></th>\n",
       "      <th></th>\n",
       "      <th></th>\n",
       "      <th></th>\n",
       "      <th></th>\n",
       "      <th></th>\n",
       "      <th></th>\n",
       "      <th></th>\n",
       "      <th></th>\n",
       "    </tr>\n",
       "  </thead>\n",
       "  <tbody>\n",
       "    <tr>\n",
       "      <th>2019-01-01</th>\n",
       "      <td>3746.713379</td>\n",
       "      <td>3850.913818</td>\n",
       "      <td>3707.231201</td>\n",
       "      <td>3843.520020</td>\n",
       "      <td>3843.520020</td>\n",
       "      <td>4324200990</td>\n",
       "      <td>NaN</td>\n",
       "      <td>0</td>\n",
       "      <td>1</td>\n",
       "    </tr>\n",
       "    <tr>\n",
       "      <th>2019-01-02</th>\n",
       "      <td>3849.216309</td>\n",
       "      <td>3947.981201</td>\n",
       "      <td>3817.409424</td>\n",
       "      <td>3943.409424</td>\n",
       "      <td>3943.409424</td>\n",
       "      <td>5244856836</td>\n",
       "      <td>0.025989</td>\n",
       "      <td>0</td>\n",
       "      <td>1</td>\n",
       "    </tr>\n",
       "    <tr>\n",
       "      <th>2019-01-03</th>\n",
       "      <td>3931.048584</td>\n",
       "      <td>3935.685059</td>\n",
       "      <td>3826.222900</td>\n",
       "      <td>3836.741211</td>\n",
       "      <td>3836.741211</td>\n",
       "      <td>4530215219</td>\n",
       "      <td>-0.027050</td>\n",
       "      <td>1</td>\n",
       "      <td>2</td>\n",
       "    </tr>\n",
       "    <tr>\n",
       "      <th>2019-01-04</th>\n",
       "      <td>3832.040039</td>\n",
       "      <td>3865.934570</td>\n",
       "      <td>3783.853760</td>\n",
       "      <td>3857.717529</td>\n",
       "      <td>3857.717529</td>\n",
       "      <td>4847965467</td>\n",
       "      <td>0.005467</td>\n",
       "      <td>0</td>\n",
       "      <td>3</td>\n",
       "    </tr>\n",
       "    <tr>\n",
       "      <th>2019-01-05</th>\n",
       "      <td>3851.973877</td>\n",
       "      <td>3904.903076</td>\n",
       "      <td>3836.900146</td>\n",
       "      <td>3845.194580</td>\n",
       "      <td>3845.194580</td>\n",
       "      <td>5137609824</td>\n",
       "      <td>-0.003246</td>\n",
       "      <td>1</td>\n",
       "      <td>4</td>\n",
       "    </tr>\n",
       "    <tr>\n",
       "      <th>2019-01-06</th>\n",
       "      <td>3836.519043</td>\n",
       "      <td>4093.297363</td>\n",
       "      <td>3826.513184</td>\n",
       "      <td>4076.632568</td>\n",
       "      <td>4076.632568</td>\n",
       "      <td>5597027440</td>\n",
       "      <td>0.060189</td>\n",
       "      <td>0</td>\n",
       "      <td>5</td>\n",
       "    </tr>\n",
       "    <tr>\n",
       "      <th>2019-01-07</th>\n",
       "      <td>4078.584961</td>\n",
       "      <td>4092.613525</td>\n",
       "      <td>4020.894043</td>\n",
       "      <td>4025.248291</td>\n",
       "      <td>4025.248291</td>\n",
       "      <td>5228625637</td>\n",
       "      <td>-0.012605</td>\n",
       "      <td>1</td>\n",
       "      <td>6</td>\n",
       "    </tr>\n",
       "    <tr>\n",
       "      <th>2019-01-08</th>\n",
       "      <td>4028.472168</td>\n",
       "      <td>4109.020996</td>\n",
       "      <td>3996.955322</td>\n",
       "      <td>4030.847900</td>\n",
       "      <td>4030.847900</td>\n",
       "      <td>5306593305</td>\n",
       "      <td>0.001391</td>\n",
       "      <td>0</td>\n",
       "      <td>7</td>\n",
       "    </tr>\n",
       "    <tr>\n",
       "      <th>2019-01-09</th>\n",
       "      <td>4031.552002</td>\n",
       "      <td>4068.403564</td>\n",
       "      <td>4022.662842</td>\n",
       "      <td>4035.296387</td>\n",
       "      <td>4035.296387</td>\n",
       "      <td>5115905225</td>\n",
       "      <td>0.001104</td>\n",
       "      <td>0</td>\n",
       "      <td>7</td>\n",
       "    </tr>\n",
       "    <tr>\n",
       "      <th>2019-01-10</th>\n",
       "      <td>4034.411377</td>\n",
       "      <td>4064.066650</td>\n",
       "      <td>3659.174561</td>\n",
       "      <td>3678.924561</td>\n",
       "      <td>3678.924561</td>\n",
       "      <td>6874143796</td>\n",
       "      <td>-0.088314</td>\n",
       "      <td>1</td>\n",
       "      <td>8</td>\n",
       "    </tr>\n",
       "  </tbody>\n",
       "</table>\n",
       "</div>"
      ],
      "text/plain": [
       "                   Open         High          Low        Close    Adj Close  \\\n",
       "Date                                                                          \n",
       "2019-01-01  3746.713379  3850.913818  3707.231201  3843.520020  3843.520020   \n",
       "2019-01-02  3849.216309  3947.981201  3817.409424  3943.409424  3943.409424   \n",
       "2019-01-03  3931.048584  3935.685059  3826.222900  3836.741211  3836.741211   \n",
       "2019-01-04  3832.040039  3865.934570  3783.853760  3857.717529  3857.717529   \n",
       "2019-01-05  3851.973877  3904.903076  3836.900146  3845.194580  3845.194580   \n",
       "2019-01-06  3836.519043  4093.297363  3826.513184  4076.632568  4076.632568   \n",
       "2019-01-07  4078.584961  4092.613525  4020.894043  4025.248291  4025.248291   \n",
       "2019-01-08  4028.472168  4109.020996  3996.955322  4030.847900  4030.847900   \n",
       "2019-01-09  4031.552002  4068.403564  4022.662842  4035.296387  4035.296387   \n",
       "2019-01-10  4034.411377  4064.066650  3659.174561  3678.924561  3678.924561   \n",
       "\n",
       "                Volume  pct_change  down  candle_change  \n",
       "Date                                                     \n",
       "2019-01-01  4324200990         NaN     0              1  \n",
       "2019-01-02  5244856836    0.025989     0              1  \n",
       "2019-01-03  4530215219   -0.027050     1              2  \n",
       "2019-01-04  4847965467    0.005467     0              3  \n",
       "2019-01-05  5137609824   -0.003246     1              4  \n",
       "2019-01-06  5597027440    0.060189     0              5  \n",
       "2019-01-07  5228625637   -0.012605     1              6  \n",
       "2019-01-08  5306593305    0.001391     0              7  \n",
       "2019-01-09  5115905225    0.001104     0              7  \n",
       "2019-01-10  6874143796   -0.088314     1              8  "
      ]
     },
     "execution_count": 28,
     "metadata": {},
     "output_type": "execute_result"
    }
   ],
   "source": [
    "btc.head(10)"
   ]
  },
  {
   "cell_type": "code",
   "execution_count": 44,
   "metadata": {},
   "outputs": [
    {
     "data": {
      "text/html": [
       "<div>\n",
       "<style scoped>\n",
       "    .dataframe tbody tr th:only-of-type {\n",
       "        vertical-align: middle;\n",
       "    }\n",
       "\n",
       "    .dataframe tbody tr th {\n",
       "        vertical-align: top;\n",
       "    }\n",
       "\n",
       "    .dataframe thead th {\n",
       "        text-align: right;\n",
       "    }\n",
       "</style>\n",
       "<table border=\"1\" class=\"dataframe\">\n",
       "  <thead>\n",
       "    <tr style=\"text-align: right;\">\n",
       "      <th></th>\n",
       "      <th>Open</th>\n",
       "      <th>High</th>\n",
       "      <th>Low</th>\n",
       "      <th>Close</th>\n",
       "      <th>Adj Close</th>\n",
       "      <th>Volume</th>\n",
       "      <th>pct_change</th>\n",
       "      <th>down</th>\n",
       "      <th>candle_change</th>\n",
       "      <th>consecutive_count</th>\n",
       "    </tr>\n",
       "    <tr>\n",
       "      <th>Date</th>\n",
       "      <th></th>\n",
       "      <th></th>\n",
       "      <th></th>\n",
       "      <th></th>\n",
       "      <th></th>\n",
       "      <th></th>\n",
       "      <th></th>\n",
       "      <th></th>\n",
       "      <th></th>\n",
       "      <th></th>\n",
       "    </tr>\n",
       "  </thead>\n",
       "  <tbody>\n",
       "    <tr>\n",
       "      <th>2019-01-01</th>\n",
       "      <td>3746.713379</td>\n",
       "      <td>3850.913818</td>\n",
       "      <td>3707.231201</td>\n",
       "      <td>3843.520020</td>\n",
       "      <td>3843.520020</td>\n",
       "      <td>4324200990</td>\n",
       "      <td>NaN</td>\n",
       "      <td>0</td>\n",
       "      <td>1</td>\n",
       "      <td>1</td>\n",
       "    </tr>\n",
       "    <tr>\n",
       "      <th>2019-01-02</th>\n",
       "      <td>3849.216309</td>\n",
       "      <td>3947.981201</td>\n",
       "      <td>3817.409424</td>\n",
       "      <td>3943.409424</td>\n",
       "      <td>3943.409424</td>\n",
       "      <td>5244856836</td>\n",
       "      <td>0.025989</td>\n",
       "      <td>0</td>\n",
       "      <td>1</td>\n",
       "      <td>2</td>\n",
       "    </tr>\n",
       "    <tr>\n",
       "      <th>2019-01-03</th>\n",
       "      <td>3931.048584</td>\n",
       "      <td>3935.685059</td>\n",
       "      <td>3826.222900</td>\n",
       "      <td>3836.741211</td>\n",
       "      <td>3836.741211</td>\n",
       "      <td>4530215219</td>\n",
       "      <td>-0.027050</td>\n",
       "      <td>1</td>\n",
       "      <td>2</td>\n",
       "      <td>-1</td>\n",
       "    </tr>\n",
       "    <tr>\n",
       "      <th>2019-01-04</th>\n",
       "      <td>3832.040039</td>\n",
       "      <td>3865.934570</td>\n",
       "      <td>3783.853760</td>\n",
       "      <td>3857.717529</td>\n",
       "      <td>3857.717529</td>\n",
       "      <td>4847965467</td>\n",
       "      <td>0.005467</td>\n",
       "      <td>0</td>\n",
       "      <td>3</td>\n",
       "      <td>1</td>\n",
       "    </tr>\n",
       "    <tr>\n",
       "      <th>2019-01-05</th>\n",
       "      <td>3851.973877</td>\n",
       "      <td>3904.903076</td>\n",
       "      <td>3836.900146</td>\n",
       "      <td>3845.194580</td>\n",
       "      <td>3845.194580</td>\n",
       "      <td>5137609824</td>\n",
       "      <td>-0.003246</td>\n",
       "      <td>1</td>\n",
       "      <td>4</td>\n",
       "      <td>-1</td>\n",
       "    </tr>\n",
       "    <tr>\n",
       "      <th>2019-01-06</th>\n",
       "      <td>3836.519043</td>\n",
       "      <td>4093.297363</td>\n",
       "      <td>3826.513184</td>\n",
       "      <td>4076.632568</td>\n",
       "      <td>4076.632568</td>\n",
       "      <td>5597027440</td>\n",
       "      <td>0.060189</td>\n",
       "      <td>0</td>\n",
       "      <td>5</td>\n",
       "      <td>1</td>\n",
       "    </tr>\n",
       "    <tr>\n",
       "      <th>2019-01-07</th>\n",
       "      <td>4078.584961</td>\n",
       "      <td>4092.613525</td>\n",
       "      <td>4020.894043</td>\n",
       "      <td>4025.248291</td>\n",
       "      <td>4025.248291</td>\n",
       "      <td>5228625637</td>\n",
       "      <td>-0.012605</td>\n",
       "      <td>1</td>\n",
       "      <td>6</td>\n",
       "      <td>-1</td>\n",
       "    </tr>\n",
       "    <tr>\n",
       "      <th>2019-01-08</th>\n",
       "      <td>4028.472168</td>\n",
       "      <td>4109.020996</td>\n",
       "      <td>3996.955322</td>\n",
       "      <td>4030.847900</td>\n",
       "      <td>4030.847900</td>\n",
       "      <td>5306593305</td>\n",
       "      <td>0.001391</td>\n",
       "      <td>0</td>\n",
       "      <td>7</td>\n",
       "      <td>1</td>\n",
       "    </tr>\n",
       "    <tr>\n",
       "      <th>2019-01-09</th>\n",
       "      <td>4031.552002</td>\n",
       "      <td>4068.403564</td>\n",
       "      <td>4022.662842</td>\n",
       "      <td>4035.296387</td>\n",
       "      <td>4035.296387</td>\n",
       "      <td>5115905225</td>\n",
       "      <td>0.001104</td>\n",
       "      <td>0</td>\n",
       "      <td>7</td>\n",
       "      <td>2</td>\n",
       "    </tr>\n",
       "    <tr>\n",
       "      <th>2019-01-10</th>\n",
       "      <td>4034.411377</td>\n",
       "      <td>4064.066650</td>\n",
       "      <td>3659.174561</td>\n",
       "      <td>3678.924561</td>\n",
       "      <td>3678.924561</td>\n",
       "      <td>6874143796</td>\n",
       "      <td>-0.088314</td>\n",
       "      <td>1</td>\n",
       "      <td>8</td>\n",
       "      <td>-1</td>\n",
       "    </tr>\n",
       "  </tbody>\n",
       "</table>\n",
       "</div>"
      ],
      "text/plain": [
       "                   Open         High          Low        Close    Adj Close  \\\n",
       "Date                                                                          \n",
       "2019-01-01  3746.713379  3850.913818  3707.231201  3843.520020  3843.520020   \n",
       "2019-01-02  3849.216309  3947.981201  3817.409424  3943.409424  3943.409424   \n",
       "2019-01-03  3931.048584  3935.685059  3826.222900  3836.741211  3836.741211   \n",
       "2019-01-04  3832.040039  3865.934570  3783.853760  3857.717529  3857.717529   \n",
       "2019-01-05  3851.973877  3904.903076  3836.900146  3845.194580  3845.194580   \n",
       "2019-01-06  3836.519043  4093.297363  3826.513184  4076.632568  4076.632568   \n",
       "2019-01-07  4078.584961  4092.613525  4020.894043  4025.248291  4025.248291   \n",
       "2019-01-08  4028.472168  4109.020996  3996.955322  4030.847900  4030.847900   \n",
       "2019-01-09  4031.552002  4068.403564  4022.662842  4035.296387  4035.296387   \n",
       "2019-01-10  4034.411377  4064.066650  3659.174561  3678.924561  3678.924561   \n",
       "\n",
       "                Volume  pct_change  down  candle_change  consecutive_count  \n",
       "Date                                                                        \n",
       "2019-01-01  4324200990         NaN     0              1                  1  \n",
       "2019-01-02  5244856836    0.025989     0              1                  2  \n",
       "2019-01-03  4530215219   -0.027050     1              2                 -1  \n",
       "2019-01-04  4847965467    0.005467     0              3                  1  \n",
       "2019-01-05  5137609824   -0.003246     1              4                 -1  \n",
       "2019-01-06  5597027440    0.060189     0              5                  1  \n",
       "2019-01-07  5228625637   -0.012605     1              6                 -1  \n",
       "2019-01-08  5306593305    0.001391     0              7                  1  \n",
       "2019-01-09  5115905225    0.001104     0              7                  2  \n",
       "2019-01-10  6874143796   -0.088314     1              8                 -1  "
      ]
     },
     "execution_count": 44,
     "metadata": {},
     "output_type": "execute_result"
    }
   ],
   "source": [
    "btc['candle_change'] = (btc['down'] != btc['down'].shift(1)).cumsum()\n",
    "btc['consecutive_count'] = btc.groupby('candle_change').cumcount()+1 #cuentas cuanta ocurrencias consecutivas ha habido del candle change\n",
    "btc['consecutive_count'] = np.where(btc['down']==1,-btc['consecutive_count'],btc['consecutive_count']) #fix for red candles\n",
    "btc.head(10)"
   ]
  },
  {
   "cell_type": "code",
   "execution_count": null,
   "metadata": {},
   "outputs": [],
   "source": [
    "#for 3 days \n",
    "btc['long_signal'] = "
   ]
  },
  {
   "cell_type": "code",
   "execution_count": 43,
   "metadata": {},
   "outputs": [
    {
     "data": {
      "text/plain": [
       "<Axes: ylabel='Frequency'>"
      ]
     },
     "execution_count": 43,
     "metadata": {},
     "output_type": "execute_result"
    },
    {
     "data": {
      "image/png": "[encoded data removed]",
      "text/plain": [
       "<Figure size 640x480 with 1 Axes>"
      ]
     },
     "metadata": {},
     "output_type": "display_data"
    }
   ],
   "source": [
    "btc['consecutive_count'].plot(kind='hist')"
   ]
  },
  {
   "cell_type": "code",
   "execution_count": 6,
   "metadata": {},
   "outputs": [
    {
     "data": {
      "text/plain": [
       "170"
      ]
     },
     "execution_count": 6,
     "metadata": {},
     "output_type": "execute_result"
    }
   ],
   "source": [
    "up_days = len(btc[btc['down']==0])\n",
    "up_days"
   ]
  },
  {
   "cell_type": "code",
   "execution_count": 65,
   "metadata": {},
   "outputs": [
    {
     "data": {
      "text/plain": [
       "46"
      ]
     },
     "execution_count": 65,
     "metadata": {},
     "output_type": "execute_result"
    }
   ],
   "source": [
    "((btc['down']==1) & (btc['down'].shift(-1) == 1) & (btc['down'].shift(-2) == 0)).sum() #parenthesis fucked up my boolean condition"
   ]
  },
  {
   "cell_type": "code",
   "execution_count": 38,
   "metadata": {},
   "outputs": [
    {
     "data": {
      "text/plain": [
       "0.5294117647058824"
      ]
     },
     "execution_count": 38,
     "metadata": {},
     "output_type": "execute_result"
    }
   ],
   "source": [
    "down_up = ((btc['down'] == 1) & (btc['down'].shift(-1)==0)).sum()\n",
    "down_up/len(btc[btc['down']==0])"
   ]
  },
  {
   "cell_type": "code",
   "execution_count": 67,
   "metadata": {},
   "outputs": [
    {
     "data": {
      "text/plain": [
       "0.27058823529411763"
      ]
     },
     "execution_count": 67,
     "metadata": {},
     "output_type": "execute_result"
    }
   ],
   "source": [
    "down_down_up = ((btc['down']==1) & (btc['down'].shift(-1) == 1) & (btc['down'].shift(-2) == 0)).sum()\n",
    "down_down_up/len(btc[btc['down']==0])"
   ]
  },
  {
   "cell_type": "code",
   "execution_count": 73,
   "metadata": {},
   "outputs": [
    {
     "data": {
      "text/plain": [
       "25"
      ]
     },
     "execution_count": 73,
     "metadata": {},
     "output_type": "execute_result"
    }
   ],
   "source": [
    "dddu = ((btc['down']==1) & (btc['down'].shift(-1) == 1) & (btc['down'].shift(-2) == 1) & (btc['down'].shift(-3) == 0)).sum()\n",
    "dddu"
   ]
  },
  {
   "cell_type": "code",
   "execution_count": 38,
   "metadata": {},
   "outputs": [],
   "source": [
    "pattern_series = ((btc['down'] == 1) & \n",
    "                  (btc['down'].shift(-1) == 1) & \n",
    "                  (btc['down'].shift(-2) == 1) & \n",
    "                  (btc['down'].shift(-3) == 1) & \n",
    "                  (btc['down'].shift(-4) == 1) & \n",
    "                  (btc['down'].shift(-5) == 0)).sum()\n",
    "\n",
    "denom = ((btc['down'] == 1) & \n",
    "        (btc['down'].shift(-1) == 1) & \n",
    "        (btc['down'].shift(-2) == 1) & \n",
    "        (btc['down'].shift(-3) == 1) & \n",
    "        (btc['down'].shift(-4) == 1) ).sum() \n"
   ]
  },
  {
   "cell_type": "code",
   "execution_count": 39,
   "metadata": {},
   "outputs": [
    {
     "data": {
      "text/plain": [
       "(8, 17)"
      ]
     },
     "execution_count": 39,
     "metadata": {},
     "output_type": "execute_result"
    }
   ],
   "source": [
    "pattern_series,denom"
   ]
  },
  {
   "cell_type": "code",
   "execution_count": 56,
   "metadata": {},
   "outputs": [
    {
     "data": {
      "text/plain": [
       "46"
      ]
     },
     "execution_count": 56,
     "metadata": {},
     "output_type": "execute_result"
    }
   ],
   "source": [
    "pattern = [1, 1, 0]\n",
    "sequence_count = 0\n",
    "\n",
    "# Convert the 'down' column to a list for processing\n",
    "down_list = btc['down'].tolist()\n",
    "\n",
    "# Check for the pattern in the list using a sliding window approach\n",
    "for i in range(len(down_list) - 2):\n",
    "    # Check if the slice from the list matches the pattern\n",
    "    if down_list[i:i+3] == pattern:\n",
    "        sequence_count += 1\n",
    "sequence_count"
   ]
  },
  {
   "cell_type": "markdown",
   "metadata": {},
   "source": [
    "# Backtesting"
   ]
  },
  {
   "cell_type": "code",
   "execution_count": 31,
   "metadata": {},
   "outputs": [],
   "source": [
    "from backtesting import Backtest,Strategy\n"
   ]
  },
  {
   "cell_type": "code",
   "execution_count": 21,
   "metadata": {},
   "outputs": [
    {
     "data": {
      "text/plain": [
       "Date\n",
       "2022-01-01    0\n",
       "2022-01-02    1\n",
       "2022-01-03    1\n",
       "2022-01-04    1\n",
       "2022-01-05    1\n",
       "             ..\n",
       "2022-12-27    1\n",
       "2022-12-28    1\n",
       "2022-12-29    0\n",
       "2022-12-30    1\n",
       "2022-12-31    1\n",
       "Name: down, Length: 365, dtype: int64"
      ]
     },
     "execution_count": 21,
     "metadata": {},
     "output_type": "execute_result"
    }
   ],
   "source": [
    "btc.down"
   ]
  },
  {
   "cell_type": "code",
   "execution_count": 58,
   "metadata": {},
   "outputs": [],
   "source": [
    "class BTCstrat(Strategy):\n",
    "    def init(self):\n",
    "        self.entry_signal = False\n",
    "        pass\n",
    "\n",
    "    def next(self):\n",
    "        if len(self.data) < 6 :\n",
    "            return #not enough data points\n",
    "\n",
    "        if self.entry_signal:    \n",
    "            if self.data.down[-1] == 1:\n",
    "                print(\"Selling\")\n",
    "                self.position.close()\n",
    "                self.sell()\n",
    "                self.entry_signal = False \n",
    "    \n",
    "        # Check the pattern of 5 down days followed by an up day\n",
    "        if not self.position and not self.entry_signal:\n",
    "            if (self.data.down[-6] == 1 and \n",
    "                self.data.down[-5] == 1 and \n",
    "                self.data.down[-4] == 1 and \n",
    "                self.data.down[-3] == 1 and \n",
    "                self.data.down[-2] == 1 and \n",
    "                self.data.down[-1] == 0):\n",
    "\n",
    "                print(\"Longing\")    \n",
    "                # Enter long position\n",
    "                self.position.close()\n",
    "                self.buy()\n",
    "                self.entry_signal = True "
   ]
  },
  {
   "cell_type": "code",
   "execution_count": 62,
   "metadata": {},
   "outputs": [
    {
     "name": "stdout",
     "output_type": "stream",
     "text": [
      "Longing\n",
      "Selling\n"
     ]
    }
   ],
   "source": [
    "bt = Backtest(btc,BTCstrat,cash=100000,commission=0.01)\n",
    "stats = bt.run()"
   ]
  },
  {
   "cell_type": "code",
   "execution_count": 63,
   "metadata": {},
   "outputs": [
    {
     "name": "stderr",
     "output_type": "stream",
     "text": [
      "/Users/diegotorpoco/Documents/peopl/peoplvenv/lib/python3.9/site-packages/backtesting/_plotting.py:250: UserWarning: DatetimeFormatter scales now only accept a single format. Using the first provided: '%d %b'\n",
      "  formatter=DatetimeTickFormatter(days=['%d %b', '%a %d'],\n",
      "/Users/diegotorpoco/Documents/peopl/peoplvenv/lib/python3.9/site-packages/backtesting/_plotting.py:250: UserWarning: DatetimeFormatter scales now only accept a single format. Using the first provided: '%m/%Y'\n",
      "  formatter=DatetimeTickFormatter(days=['%d %b', '%a %d'],\n",
      "/Users/diegotorpoco/Documents/peopl/peoplvenv/lib/python3.9/site-packages/backtesting/_plotting.py:659: UserWarning: found multiple competing values for 'toolbar.active_drag' property; using the latest value\n",
      "  fig = gridplot(\n",
      "/Users/diegotorpoco/Documents/peopl/peoplvenv/lib/python3.9/site-packages/backtesting/_plotting.py:659: UserWarning: found multiple competing values for 'toolbar.active_scroll' property; using the latest value\n",
      "  fig = gridplot(\n"
     ]
    },
    {
     "data": {
      "text/html": [
       "<div style=\"display: table;\"><div style=\"display: table-row;\"><div style=\"display: table-cell;\"><b title=\"bokeh.models.plots.GridPlot\">GridPlot</b>(</div><div style=\"display: table-cell;\">id&nbsp;=&nbsp;'p1653', <span id=\"p1680\" style=\"cursor: pointer;\">&hellip;)</span></div></div><div class=\"p1679\" style=\"display: none;\"><div style=\"display: table-cell;\"></div><div style=\"display: table-cell;\">align&nbsp;=&nbsp;'auto',</div></div><div class=\"p1679\" style=\"display: none;\"><div style=\"display: table-cell;\"></div><div style=\"display: table-cell;\">aspect_ratio&nbsp;=&nbsp;None,</div></div><div class=\"p1679\" style=\"display: none;\"><div style=\"display: table-cell;\"></div><div style=\"display: table-cell;\">children&nbsp;=&nbsp;[(figure(id='p1394', ...), 0, 0), (figure(id='p1491', ...), 1, 0), (figure(id='p1350', ...), 2, 0), (figure(id='p1546', ...), 3, 0)],</div></div><div class=\"p1679\" style=\"display: none;\"><div style=\"display: table-cell;\"></div><div style=\"display: table-cell;\">cols&nbsp;=&nbsp;None,</div></div><div class=\"p1679\" style=\"display: none;\"><div style=\"display: table-cell;\"></div><div style=\"display: table-cell;\">context_menu&nbsp;=&nbsp;None,</div></div><div class=\"p1679\" style=\"display: none;\"><div style=\"display: table-cell;\"></div><div style=\"display: table-cell;\">css_classes&nbsp;=&nbsp;[],</div></div><div class=\"p1679\" style=\"display: none;\"><div style=\"display: table-cell;\"></div><div style=\"display: table-cell;\">css_variables&nbsp;=&nbsp;{},</div></div><div class=\"p1679\" style=\"display: none;\"><div style=\"display: table-cell;\"></div><div style=\"display: table-cell;\">disabled&nbsp;=&nbsp;False,</div></div><div class=\"p1679\" style=\"display: none;\"><div style=\"display: table-cell;\"></div><div style=\"display: table-cell;\">elements&nbsp;=&nbsp;[],</div></div><div class=\"p1679\" style=\"display: none;\"><div style=\"display: table-cell;\"></div><div style=\"display: table-cell;\">flow_mode&nbsp;=&nbsp;'block',</div></div><div class=\"p1679\" style=\"display: none;\"><div style=\"display: table-cell;\"></div><div style=\"display: table-cell;\">height&nbsp;=&nbsp;None,</div></div><div class=\"p1679\" style=\"display: none;\"><div style=\"display: table-cell;\"></div><div style=\"display: table-cell;\">height_policy&nbsp;=&nbsp;'auto',</div></div><div class=\"p1679\" style=\"display: none;\"><div style=\"display: table-cell;\"></div><div style=\"display: table-cell;\">js_event_callbacks&nbsp;=&nbsp;{},</div></div><div class=\"p1679\" style=\"display: none;\"><div style=\"display: table-cell;\"></div><div style=\"display: table-cell;\">js_property_callbacks&nbsp;=&nbsp;{},</div></div><div class=\"p1679\" style=\"display: none;\"><div style=\"display: table-cell;\"></div><div style=\"display: table-cell;\">margin&nbsp;=&nbsp;None,</div></div><div class=\"p1679\" style=\"display: none;\"><div style=\"display: table-cell;\"></div><div style=\"display: table-cell;\">max_height&nbsp;=&nbsp;None,</div></div><div class=\"p1679\" style=\"display: none;\"><div style=\"display: table-cell;\"></div><div style=\"display: table-cell;\">max_width&nbsp;=&nbsp;None,</div></div><div class=\"p1679\" style=\"display: none;\"><div style=\"display: table-cell;\"></div><div style=\"display: table-cell;\">min_height&nbsp;=&nbsp;None,</div></div><div class=\"p1679\" style=\"display: none;\"><div style=\"display: table-cell;\"></div><div style=\"display: table-cell;\">min_width&nbsp;=&nbsp;None,</div></div><div class=\"p1679\" style=\"display: none;\"><div style=\"display: table-cell;\"></div><div style=\"display: table-cell;\">name&nbsp;=&nbsp;None,</div></div><div class=\"p1679\" style=\"display: none;\"><div style=\"display: table-cell;\"></div><div style=\"display: table-cell;\">resizable&nbsp;=&nbsp;False,</div></div><div class=\"p1679\" style=\"display: none;\"><div style=\"display: table-cell;\"></div><div style=\"display: table-cell;\">rows&nbsp;=&nbsp;None,</div></div><div class=\"p1679\" style=\"display: none;\"><div style=\"display: table-cell;\"></div><div style=\"display: table-cell;\">sizing_mode&nbsp;=&nbsp;'stretch_width',</div></div><div class=\"p1679\" style=\"display: none;\"><div style=\"display: table-cell;\"></div><div style=\"display: table-cell;\">spacing&nbsp;=&nbsp;0,</div></div><div class=\"p1679\" style=\"display: none;\"><div style=\"display: table-cell;\"></div><div style=\"display: table-cell;\">styles&nbsp;=&nbsp;{},</div></div><div class=\"p1679\" style=\"display: none;\"><div style=\"display: table-cell;\"></div><div style=\"display: table-cell;\">stylesheets&nbsp;=&nbsp;[],</div></div><div class=\"p1679\" style=\"display: none;\"><div style=\"display: table-cell;\"></div><div style=\"display: table-cell;\">subscribed_events&nbsp;=&nbsp;PropertyValueSet(),</div></div><div class=\"p1679\" style=\"display: none;\"><div style=\"display: table-cell;\"></div><div style=\"display: table-cell;\">syncable&nbsp;=&nbsp;True,</div></div><div class=\"p1679\" style=\"display: none;\"><div style=\"display: table-cell;\"></div><div style=\"display: table-cell;\">tags&nbsp;=&nbsp;[],</div></div><div class=\"p1679\" style=\"display: none;\"><div style=\"display: table-cell;\"></div><div style=\"display: table-cell;\">toolbar&nbsp;=&nbsp;Toolbar(id='p1652', ...),</div></div><div class=\"p1679\" style=\"display: none;\"><div style=\"display: table-cell;\"></div><div style=\"display: table-cell;\">toolbar_location&nbsp;=&nbsp;'right',</div></div><div class=\"p1679\" style=\"display: none;\"><div style=\"display: table-cell;\"></div><div style=\"display: table-cell;\">visible&nbsp;=&nbsp;True,</div></div><div class=\"p1679\" style=\"display: none;\"><div style=\"display: table-cell;\"></div><div style=\"display: table-cell;\">width&nbsp;=&nbsp;None,</div></div><div class=\"p1679\" style=\"display: none;\"><div style=\"display: table-cell;\"></div><div style=\"display: table-cell;\">width_policy&nbsp;=&nbsp;'auto')</div></div></div>\n",
       "<script>\n",
       "(function() {\n",
       "  let expanded = false;\n",
       "  const ellipsis = document.getElementById(\"p1680\");\n",
       "  ellipsis.addEventListener(\"click\", function() {\n",
       "    const rows = document.getElementsByClassName(\"p1679\");\n",
       "    for (let i = 0; i < rows.length; i++) {\n",
       "      const el = rows[i];\n",
       "      el.style.display = expanded ? \"none\" : \"table-row\";\n",
       "    }\n",
       "    ellipsis.innerHTML = expanded ? \"&hellip;)\" : \"&lsaquo;&lsaquo;&lsaquo;\";\n",
       "    expanded = !expanded;\n",
       "  });\n",
       "})();\n",
       "</script>\n"
      ],
      "text/plain": [
       "GridPlot(id='p1653', ...)"
      ]
     },
     "execution_count": 63,
     "metadata": {},
     "output_type": "execute_result"
    }
   ],
   "source": [
    "bt.plot()"
   ]
  },
  {
   "cell_type": "code",
   "execution_count": 64,
   "metadata": {},
   "outputs": [
    {
     "name": "stdout",
     "output_type": "stream",
     "text": [
      "Start                     2022-01-01 00:00:00\n",
      "End                       2022-12-31 00:00:00\n",
      "Duration                    364 days 00:00:00\n",
      "Exposure Time [%]                   97.808219\n",
      "Equity Final [$]                148930.145781\n",
      "Equity Peak [$]                 150562.925078\n",
      "Return [%]                          48.930146\n",
      "Buy & Hold Return [%]              -65.299639\n",
      "Return (Ann.) [%]                   48.930146\n",
      "Volatility (Ann.) [%]               53.220801\n",
      "Sharpe Ratio                          0.91938\n",
      "Sortino Ratio                        2.196697\n",
      "Calmar Ratio                         2.204958\n",
      "Max. Drawdown [%]                   -22.19096\n",
      "Avg. Drawdown [%]                   -4.799001\n",
      "Max. Drawdown Duration      106 days 00:00:00\n",
      "Avg. Drawdown Duration       27 days 00:00:00\n",
      "# Trades                                    2\n",
      "Win Rate [%]                             50.0\n",
      "Best Trade [%]                      59.895779\n",
      "Worst Trade [%]                     -0.788967\n",
      "Avg. Trade [%]                      25.950091\n",
      "Max. Trade Duration         354 days 00:00:00\n",
      "Avg. Trade Duration         178 days 00:00:00\n",
      "Profit Factor                       75.916696\n",
      "Expectancy [%]                      29.553406\n",
      "SQN                                  0.973533\n",
      "_strategy                            BTCstrat\n",
      "_equity_curve                             ...\n",
      "_trades                      Size  EntryBa...\n",
      "dtype: object\n"
     ]
    }
   ],
   "source": [
    "print(stats)"
   ]
  },
  {
   "cell_type": "code",
   "execution_count": null,
   "metadata": {},
   "outputs": [],
   "source": []
  }
 ],
 "metadata": {
  "kernelspec": {
   "display_name": "peoplvenv",
   "language": "python",
   "name": "python3"
  },
  "language_info": {
   "codemirror_mode": {
    "name": "ipython",
    "version": 3
   },
   "file_extension": ".py",
   "mimetype": "text/x-python",
   "name": "python",
   "nbconvert_exporter": "python",
   "pygments_lexer": "ipython3",
   "version": "3.10.11"
  }
 },
 "nbformat": 4,
 "nbformat_minor": 2
}
