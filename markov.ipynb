{
 "cells": [
  {
   "cell_type": "code",
   "execution_count": 2,
   "metadata": {},
   "outputs": [],
   "source": [
    "import yfinance as yf\n",
    "import numpy as np\n",
    "import pandas as pd \n",
    "import matplotlib.pyplot as plt"
   ]
  },
  {
   "cell_type": "code",
   "execution_count": 3,
   "metadata": {},
   "outputs": [
    {
     "name": "stderr",
     "output_type": "stream",
     "text": [
      "[*********************100%%**********************]  1 of 1 completed\n"
     ]
    },
    {
     "data": {
      "text/html": [
       "<div>\n",
       "<style scoped>\n",
       "    .dataframe tbody tr th:only-of-type {\n",
       "        vertical-align: middle;\n",
       "    }\n",
       "\n",
       "    .dataframe tbody tr th {\n",
       "        vertical-align: top;\n",
       "    }\n",
       "\n",
       "    .dataframe thead th {\n",
       "        text-align: right;\n",
       "    }\n",
       "</style>\n",
       "<table border=\"1\" class=\"dataframe\">\n",
       "  <thead>\n",
       "    <tr style=\"text-align: right;\">\n",
       "      <th></th>\n",
       "      <th>Open</th>\n",
       "      <th>High</th>\n",
       "      <th>Low</th>\n",
       "      <th>Close</th>\n",
       "      <th>Adj Close</th>\n",
       "      <th>Volume</th>\n",
       "    </tr>\n",
       "    <tr>\n",
       "      <th>Date</th>\n",
       "      <th></th>\n",
       "      <th></th>\n",
       "      <th></th>\n",
       "      <th></th>\n",
       "      <th></th>\n",
       "      <th></th>\n",
       "    </tr>\n",
       "  </thead>\n",
       "  <tbody>\n",
       "    <tr>\n",
       "      <th>2019-01-01</th>\n",
       "      <td>3746.713379</td>\n",
       "      <td>3850.913818</td>\n",
       "      <td>3707.231201</td>\n",
       "      <td>3843.520020</td>\n",
       "      <td>3843.520020</td>\n",
       "      <td>4324200990</td>\n",
       "    </tr>\n",
       "    <tr>\n",
       "      <th>2019-01-02</th>\n",
       "      <td>3849.216309</td>\n",
       "      <td>3947.981201</td>\n",
       "      <td>3817.409424</td>\n",
       "      <td>3943.409424</td>\n",
       "      <td>3943.409424</td>\n",
       "      <td>5244856836</td>\n",
       "    </tr>\n",
       "    <tr>\n",
       "      <th>2019-01-03</th>\n",
       "      <td>3931.048584</td>\n",
       "      <td>3935.685059</td>\n",
       "      <td>3826.222900</td>\n",
       "      <td>3836.741211</td>\n",
       "      <td>3836.741211</td>\n",
       "      <td>4530215219</td>\n",
       "    </tr>\n",
       "    <tr>\n",
       "      <th>2019-01-04</th>\n",
       "      <td>3832.040039</td>\n",
       "      <td>3865.934570</td>\n",
       "      <td>3783.853760</td>\n",
       "      <td>3857.717529</td>\n",
       "      <td>3857.717529</td>\n",
       "      <td>4847965467</td>\n",
       "    </tr>\n",
       "    <tr>\n",
       "      <th>2019-01-05</th>\n",
       "      <td>3851.973877</td>\n",
       "      <td>3904.903076</td>\n",
       "      <td>3836.900146</td>\n",
       "      <td>3845.194580</td>\n",
       "      <td>3845.194580</td>\n",
       "      <td>5137609824</td>\n",
       "    </tr>\n",
       "    <tr>\n",
       "      <th>...</th>\n",
       "      <td>...</td>\n",
       "      <td>...</td>\n",
       "      <td>...</td>\n",
       "      <td>...</td>\n",
       "      <td>...</td>\n",
       "      <td>...</td>\n",
       "    </tr>\n",
       "    <tr>\n",
       "      <th>2024-05-16</th>\n",
       "      <td>66256.109375</td>\n",
       "      <td>66712.429688</td>\n",
       "      <td>64613.054688</td>\n",
       "      <td>65231.582031</td>\n",
       "      <td>65231.582031</td>\n",
       "      <td>31573077994</td>\n",
       "    </tr>\n",
       "    <tr>\n",
       "      <th>2024-05-17</th>\n",
       "      <td>65231.296875</td>\n",
       "      <td>67459.460938</td>\n",
       "      <td>65119.316406</td>\n",
       "      <td>67051.875000</td>\n",
       "      <td>67051.875000</td>\n",
       "      <td>28031279310</td>\n",
       "    </tr>\n",
       "    <tr>\n",
       "      <th>2024-05-18</th>\n",
       "      <td>67066.210938</td>\n",
       "      <td>67387.328125</td>\n",
       "      <td>66663.500000</td>\n",
       "      <td>66940.804688</td>\n",
       "      <td>66940.804688</td>\n",
       "      <td>16712277406</td>\n",
       "    </tr>\n",
       "    <tr>\n",
       "      <th>2024-05-19</th>\n",
       "      <td>66937.929688</td>\n",
       "      <td>67694.296875</td>\n",
       "      <td>65937.179688</td>\n",
       "      <td>66278.367188</td>\n",
       "      <td>66278.367188</td>\n",
       "      <td>19249094538</td>\n",
       "    </tr>\n",
       "    <tr>\n",
       "      <th>2024-05-20</th>\n",
       "      <td>66278.742188</td>\n",
       "      <td>71483.562500</td>\n",
       "      <td>66086.171875</td>\n",
       "      <td>71448.195312</td>\n",
       "      <td>71448.195312</td>\n",
       "      <td>43850655717</td>\n",
       "    </tr>\n",
       "  </tbody>\n",
       "</table>\n",
       "<p>1967 rows × 6 columns</p>\n",
       "</div>"
      ],
      "text/plain": [
       "                    Open          High           Low         Close  \\\n",
       "Date                                                                 \n",
       "2019-01-01   3746.713379   3850.913818   3707.231201   3843.520020   \n",
       "2019-01-02   3849.216309   3947.981201   3817.409424   3943.409424   \n",
       "2019-01-03   3931.048584   3935.685059   3826.222900   3836.741211   \n",
       "2019-01-04   3832.040039   3865.934570   3783.853760   3857.717529   \n",
       "2019-01-05   3851.973877   3904.903076   3836.900146   3845.194580   \n",
       "...                  ...           ...           ...           ...   \n",
       "2024-05-16  66256.109375  66712.429688  64613.054688  65231.582031   \n",
       "2024-05-17  65231.296875  67459.460938  65119.316406  67051.875000   \n",
       "2024-05-18  67066.210938  67387.328125  66663.500000  66940.804688   \n",
       "2024-05-19  66937.929688  67694.296875  65937.179688  66278.367188   \n",
       "2024-05-20  66278.742188  71483.562500  66086.171875  71448.195312   \n",
       "\n",
       "               Adj Close       Volume  \n",
       "Date                                   \n",
       "2019-01-01   3843.520020   4324200990  \n",
       "2019-01-02   3943.409424   5244856836  \n",
       "2019-01-03   3836.741211   4530215219  \n",
       "2019-01-04   3857.717529   4847965467  \n",
       "2019-01-05   3845.194580   5137609824  \n",
       "...                  ...          ...  \n",
       "2024-05-16  65231.582031  31573077994  \n",
       "2024-05-17  67051.875000  28031279310  \n",
       "2024-05-18  66940.804688  16712277406  \n",
       "2024-05-19  66278.367188  19249094538  \n",
       "2024-05-20  71448.195312  43850655717  \n",
       "\n",
       "[1967 rows x 6 columns]"
      ]
     },
     "execution_count": 3,
     "metadata": {},
     "output_type": "execute_result"
    }
   ],
   "source": [
    "btc = pd.DataFrame(yf.download(\"BTC-USD\",period=\"1d\",start=\"2019-01-01\",end=\"2024-05-21\"))\n",
    "btc"
   ]
  },
  {
   "cell_type": "code",
   "execution_count": 4,
   "metadata": {},
   "outputs": [
    {
     "data": {
      "text/plain": [
       "<Axes: xlabel='Date'>"
      ]
     },
     "execution_count": 4,
     "metadata": {},
     "output_type": "execute_result"
    },
    {
     "data": {
      "image/png": "[encoded data removed]",
      "text/plain": [
       "<Figure size 640x480 with 1 Axes>"
      ]
     },
     "metadata": {},
     "output_type": "display_data"
    }
   ],
   "source": [
    "btc['Close'].plot(kind='line')"
   ]
  },
  {
   "cell_type": "code",
   "execution_count": 5,
   "metadata": {},
   "outputs": [
    {
     "data": {
      "text/html": [
       "<div>\n",
       "<style scoped>\n",
       "    .dataframe tbody tr th:only-of-type {\n",
       "        vertical-align: middle;\n",
       "    }\n",
       "\n",
       "    .dataframe tbody tr th {\n",
       "        vertical-align: top;\n",
       "    }\n",
       "\n",
       "    .dataframe thead th {\n",
       "        text-align: right;\n",
       "    }\n",
       "</style>\n",
       "<table border=\"1\" class=\"dataframe\">\n",
       "  <thead>\n",
       "    <tr style=\"text-align: right;\">\n",
       "      <th></th>\n",
       "      <th>Open</th>\n",
       "      <th>High</th>\n",
       "      <th>Low</th>\n",
       "      <th>Close</th>\n",
       "      <th>Adj Close</th>\n",
       "      <th>Volume</th>\n",
       "      <th>pct_change</th>\n",
       "    </tr>\n",
       "    <tr>\n",
       "      <th>Date</th>\n",
       "      <th></th>\n",
       "      <th></th>\n",
       "      <th></th>\n",
       "      <th></th>\n",
       "      <th></th>\n",
       "      <th></th>\n",
       "      <th></th>\n",
       "    </tr>\n",
       "  </thead>\n",
       "  <tbody>\n",
       "    <tr>\n",
       "      <th>2019-01-01</th>\n",
       "      <td>3746.713379</td>\n",
       "      <td>3850.913818</td>\n",
       "      <td>3707.231201</td>\n",
       "      <td>3843.520020</td>\n",
       "      <td>3843.520020</td>\n",
       "      <td>4324200990</td>\n",
       "      <td>NaN</td>\n",
       "    </tr>\n",
       "    <tr>\n",
       "      <th>2019-01-02</th>\n",
       "      <td>3849.216309</td>\n",
       "      <td>3947.981201</td>\n",
       "      <td>3817.409424</td>\n",
       "      <td>3943.409424</td>\n",
       "      <td>3943.409424</td>\n",
       "      <td>5244856836</td>\n",
       "      <td>0.025989</td>\n",
       "    </tr>\n",
       "  </tbody>\n",
       "</table>\n",
       "</div>"
      ],
      "text/plain": [
       "                   Open         High          Low        Close    Adj Close  \\\n",
       "Date                                                                          \n",
       "2019-01-01  3746.713379  3850.913818  3707.231201  3843.520020  3843.520020   \n",
       "2019-01-02  3849.216309  3947.981201  3817.409424  3943.409424  3943.409424   \n",
       "\n",
       "                Volume  pct_change  \n",
       "Date                                \n",
       "2019-01-01  4324200990         NaN  \n",
       "2019-01-02  5244856836    0.025989  "
      ]
     },
     "execution_count": 5,
     "metadata": {},
     "output_type": "execute_result"
    }
   ],
   "source": [
    "btc['pct_change'] = btc['Close'].pct_change()\n",
    "btc.head(2)"
   ]
  },
  {
   "cell_type": "code",
   "execution_count": 6,
   "metadata": {},
   "outputs": [
    {
     "data": {
      "text/html": [
       "<div>\n",
       "<style scoped>\n",
       "    .dataframe tbody tr th:only-of-type {\n",
       "        vertical-align: middle;\n",
       "    }\n",
       "\n",
       "    .dataframe tbody tr th {\n",
       "        vertical-align: top;\n",
       "    }\n",
       "\n",
       "    .dataframe thead th {\n",
       "        text-align: right;\n",
       "    }\n",
       "</style>\n",
       "<table border=\"1\" class=\"dataframe\">\n",
       "  <thead>\n",
       "    <tr style=\"text-align: right;\">\n",
       "      <th></th>\n",
       "      <th>Open</th>\n",
       "      <th>High</th>\n",
       "      <th>Low</th>\n",
       "      <th>Close</th>\n",
       "      <th>Adj Close</th>\n",
       "      <th>Volume</th>\n",
       "      <th>pct_change</th>\n",
       "      <th>down</th>\n",
       "    </tr>\n",
       "    <tr>\n",
       "      <th>Date</th>\n",
       "      <th></th>\n",
       "      <th></th>\n",
       "      <th></th>\n",
       "      <th></th>\n",
       "      <th></th>\n",
       "      <th></th>\n",
       "      <th></th>\n",
       "      <th></th>\n",
       "    </tr>\n",
       "  </thead>\n",
       "  <tbody>\n",
       "    <tr>\n",
       "      <th>2019-01-01</th>\n",
       "      <td>3746.713379</td>\n",
       "      <td>3850.913818</td>\n",
       "      <td>3707.231201</td>\n",
       "      <td>3843.520020</td>\n",
       "      <td>3843.520020</td>\n",
       "      <td>4324200990</td>\n",
       "      <td>NaN</td>\n",
       "      <td>0</td>\n",
       "    </tr>\n",
       "    <tr>\n",
       "      <th>2019-01-02</th>\n",
       "      <td>3849.216309</td>\n",
       "      <td>3947.981201</td>\n",
       "      <td>3817.409424</td>\n",
       "      <td>3943.409424</td>\n",
       "      <td>3943.409424</td>\n",
       "      <td>5244856836</td>\n",
       "      <td>0.025989</td>\n",
       "      <td>0</td>\n",
       "    </tr>\n",
       "    <tr>\n",
       "      <th>2019-01-03</th>\n",
       "      <td>3931.048584</td>\n",
       "      <td>3935.685059</td>\n",
       "      <td>3826.222900</td>\n",
       "      <td>3836.741211</td>\n",
       "      <td>3836.741211</td>\n",
       "      <td>4530215219</td>\n",
       "      <td>-0.027050</td>\n",
       "      <td>1</td>\n",
       "    </tr>\n",
       "    <tr>\n",
       "      <th>2019-01-04</th>\n",
       "      <td>3832.040039</td>\n",
       "      <td>3865.934570</td>\n",
       "      <td>3783.853760</td>\n",
       "      <td>3857.717529</td>\n",
       "      <td>3857.717529</td>\n",
       "      <td>4847965467</td>\n",
       "      <td>0.005467</td>\n",
       "      <td>0</td>\n",
       "    </tr>\n",
       "    <tr>\n",
       "      <th>2019-01-05</th>\n",
       "      <td>3851.973877</td>\n",
       "      <td>3904.903076</td>\n",
       "      <td>3836.900146</td>\n",
       "      <td>3845.194580</td>\n",
       "      <td>3845.194580</td>\n",
       "      <td>5137609824</td>\n",
       "      <td>-0.003246</td>\n",
       "      <td>1</td>\n",
       "    </tr>\n",
       "  </tbody>\n",
       "</table>\n",
       "</div>"
      ],
      "text/plain": [
       "                   Open         High          Low        Close    Adj Close  \\\n",
       "Date                                                                          \n",
       "2019-01-01  3746.713379  3850.913818  3707.231201  3843.520020  3843.520020   \n",
       "2019-01-02  3849.216309  3947.981201  3817.409424  3943.409424  3943.409424   \n",
       "2019-01-03  3931.048584  3935.685059  3826.222900  3836.741211  3836.741211   \n",
       "2019-01-04  3832.040039  3865.934570  3783.853760  3857.717529  3857.717529   \n",
       "2019-01-05  3851.973877  3904.903076  3836.900146  3845.194580  3845.194580   \n",
       "\n",
       "                Volume  pct_change  down  \n",
       "Date                                      \n",
       "2019-01-01  4324200990         NaN     0  \n",
       "2019-01-02  5244856836    0.025989     0  \n",
       "2019-01-03  4530215219   -0.027050     1  \n",
       "2019-01-04  4847965467    0.005467     0  \n",
       "2019-01-05  5137609824   -0.003246     1  "
      ]
     },
     "execution_count": 6,
     "metadata": {},
     "output_type": "execute_result"
    }
   ],
   "source": [
    "btc['down'] = np.where(btc['pct_change'] < 0 ,1,0)\n",
    "btc.head(5)"
   ]
  },
  {
   "cell_type": "code",
   "execution_count": 17,
   "metadata": {},
   "outputs": [
    {
     "data": {
      "text/plain": [
       "Date\n",
       "2019-01-01     True\n",
       "2019-01-02    False\n",
       "2019-01-03     True\n",
       "2019-01-04     True\n",
       "2019-01-05     True\n",
       "2019-01-06     True\n",
       "2019-01-07     True\n",
       "2019-01-08     True\n",
       "2019-01-09    False\n",
       "2019-01-10     True\n",
       "Name: down, dtype: bool"
      ]
     },
     "execution_count": 17,
     "metadata": {},
     "output_type": "execute_result"
    }
   ],
   "source": [
    "(btc['down'] != btc['down'].shift(1)).head(10) #determine if actual is different than the previous one, False means days today and yesterday have been loss days"
   ]
  },
  {
   "cell_type": "code",
   "execution_count": 18,
   "metadata": {},
   "outputs": [
    {
     "data": {
      "text/plain": [
       "Date\n",
       "2019-01-01    1\n",
       "2019-01-02    1\n",
       "2019-01-03    2\n",
       "2019-01-04    3\n",
       "2019-01-05    4\n",
       "2019-01-06    5\n",
       "2019-01-07    6\n",
       "2019-01-08    7\n",
       "2019-01-09    7\n",
       "2019-01-10    8\n",
       "Name: down, dtype: int64"
      ]
     },
     "execution_count": 18,
     "metadata": {},
     "output_type": "execute_result"
    }
   ],
   "source": [
    "((btc['down'] != btc['down'].shift(1)).cumsum()).head(10) #si el numero aumenta, ha habido un candle change"
   ]
  },
  {
   "cell_type": "code",
   "execution_count": 39,
   "metadata": {},
   "outputs": [
    {
     "data": {
      "text/html": [
       "<div>\n",
       "<style scoped>\n",
       "    .dataframe tbody tr th:only-of-type {\n",
       "        vertical-align: middle;\n",
       "    }\n",
       "\n",
       "    .dataframe tbody tr th {\n",
       "        vertical-align: top;\n",
       "    }\n",
       "\n",
       "    .dataframe thead th {\n",
       "        text-align: right;\n",
       "    }\n",
       "</style>\n",
       "<table border=\"1\" class=\"dataframe\">\n",
       "  <thead>\n",
       "    <tr style=\"text-align: right;\">\n",
       "      <th></th>\n",
       "      <th>Date</th>\n",
       "      <th>Open</th>\n",
       "      <th>High</th>\n",
       "      <th>Low</th>\n",
       "      <th>Close</th>\n",
       "      <th>Adj Close</th>\n",
       "      <th>Volume</th>\n",
       "      <th>pct_change</th>\n",
       "      <th>down</th>\n",
       "      <th>candle_change</th>\n",
       "      <th>consecutive_count</th>\n",
       "      <th>buy_signal</th>\n",
       "    </tr>\n",
       "  </thead>\n",
       "  <tbody>\n",
       "    <tr>\n",
       "      <th>0</th>\n",
       "      <td>2019-01-01</td>\n",
       "      <td>3746.713379</td>\n",
       "      <td>3850.913818</td>\n",
       "      <td>3707.231201</td>\n",
       "      <td>3843.520020</td>\n",
       "      <td>3843.520020</td>\n",
       "      <td>4324200990</td>\n",
       "      <td>NaN</td>\n",
       "      <td>0</td>\n",
       "      <td>1</td>\n",
       "      <td>1</td>\n",
       "      <td>False</td>\n",
       "    </tr>\n",
       "    <tr>\n",
       "      <th>1</th>\n",
       "      <td>2019-01-02</td>\n",
       "      <td>3849.216309</td>\n",
       "      <td>3947.981201</td>\n",
       "      <td>3817.409424</td>\n",
       "      <td>3943.409424</td>\n",
       "      <td>3943.409424</td>\n",
       "      <td>5244856836</td>\n",
       "      <td>0.025989</td>\n",
       "      <td>0</td>\n",
       "      <td>1</td>\n",
       "      <td>2</td>\n",
       "      <td>False</td>\n",
       "    </tr>\n",
       "    <tr>\n",
       "      <th>2</th>\n",
       "      <td>2019-01-03</td>\n",
       "      <td>3931.048584</td>\n",
       "      <td>3935.685059</td>\n",
       "      <td>3826.222900</td>\n",
       "      <td>3836.741211</td>\n",
       "      <td>3836.741211</td>\n",
       "      <td>4530215219</td>\n",
       "      <td>-0.027050</td>\n",
       "      <td>1</td>\n",
       "      <td>2</td>\n",
       "      <td>-1</td>\n",
       "      <td>False</td>\n",
       "    </tr>\n",
       "    <tr>\n",
       "      <th>3</th>\n",
       "      <td>2019-01-04</td>\n",
       "      <td>3832.040039</td>\n",
       "      <td>3865.934570</td>\n",
       "      <td>3783.853760</td>\n",
       "      <td>3857.717529</td>\n",
       "      <td>3857.717529</td>\n",
       "      <td>4847965467</td>\n",
       "      <td>0.005467</td>\n",
       "      <td>0</td>\n",
       "      <td>3</td>\n",
       "      <td>1</td>\n",
       "      <td>False</td>\n",
       "    </tr>\n",
       "    <tr>\n",
       "      <th>4</th>\n",
       "      <td>2019-01-05</td>\n",
       "      <td>3851.973877</td>\n",
       "      <td>3904.903076</td>\n",
       "      <td>3836.900146</td>\n",
       "      <td>3845.194580</td>\n",
       "      <td>3845.194580</td>\n",
       "      <td>5137609824</td>\n",
       "      <td>-0.003246</td>\n",
       "      <td>1</td>\n",
       "      <td>4</td>\n",
       "      <td>-1</td>\n",
       "      <td>False</td>\n",
       "    </tr>\n",
       "  </tbody>\n",
       "</table>\n",
       "</div>"
      ],
      "text/plain": [
       "        Date         Open         High          Low        Close    Adj Close  \\\n",
       "0 2019-01-01  3746.713379  3850.913818  3707.231201  3843.520020  3843.520020   \n",
       "1 2019-01-02  3849.216309  3947.981201  3817.409424  3943.409424  3943.409424   \n",
       "2 2019-01-03  3931.048584  3935.685059  3826.222900  3836.741211  3836.741211   \n",
       "3 2019-01-04  3832.040039  3865.934570  3783.853760  3857.717529  3857.717529   \n",
       "4 2019-01-05  3851.973877  3904.903076  3836.900146  3845.194580  3845.194580   \n",
       "\n",
       "       Volume  pct_change  down  candle_change  consecutive_count  buy_signal  \n",
       "0  4324200990         NaN     0              1                  1       False  \n",
       "1  5244856836    0.025989     0              1                  2       False  \n",
       "2  4530215219   -0.027050     1              2                 -1       False  \n",
       "3  4847965467    0.005467     0              3                  1       False  \n",
       "4  5137609824   -0.003246     1              4                 -1       False  "
      ]
     },
     "execution_count": 39,
     "metadata": {},
     "output_type": "execute_result"
    }
   ],
   "source": [
    "btc['candle_change'] = (btc['down'] != btc['down'].shift(1)).cumsum()\n",
    "btc['consecutive_count'] = btc.groupby('candle_change').cumcount()+1 #cuentas cuanta ocurrencias consecutivas ha habido del candle change\n",
    "btc['consecutive_count'] = np.where(btc['down']==1,-btc['consecutive_count'],btc['consecutive_count']) #fix for red candles\n",
    "btc = btc.reset_index()\n",
    "btc.head(5)"
   ]
  },
  {
   "cell_type": "code",
   "execution_count": 79,
   "metadata": {},
   "outputs": [
    {
     "data": {
      "text/html": [
       "<div>\n",
       "<style scoped>\n",
       "    .dataframe tbody tr th:only-of-type {\n",
       "        vertical-align: middle;\n",
       "    }\n",
       "\n",
       "    .dataframe tbody tr th {\n",
       "        vertical-align: top;\n",
       "    }\n",
       "\n",
       "    .dataframe thead th {\n",
       "        text-align: right;\n",
       "    }\n",
       "</style>\n",
       "<table border=\"1\" class=\"dataframe\">\n",
       "  <thead>\n",
       "    <tr style=\"text-align: right;\">\n",
       "      <th></th>\n",
       "      <th>Date</th>\n",
       "      <th>Open</th>\n",
       "      <th>High</th>\n",
       "      <th>Low</th>\n",
       "      <th>Close</th>\n",
       "      <th>Adj Close</th>\n",
       "      <th>Volume</th>\n",
       "      <th>pct_change</th>\n",
       "      <th>down</th>\n",
       "      <th>candle_change</th>\n",
       "      <th>consecutive_count</th>\n",
       "      <th>buy_signal</th>\n",
       "    </tr>\n",
       "  </thead>\n",
       "  <tbody>\n",
       "    <tr>\n",
       "      <th>0</th>\n",
       "      <td>2019-01-01</td>\n",
       "      <td>3746.713379</td>\n",
       "      <td>3850.913818</td>\n",
       "      <td>3707.231201</td>\n",
       "      <td>3843.520020</td>\n",
       "      <td>3843.520020</td>\n",
       "      <td>4324200990</td>\n",
       "      <td>NaN</td>\n",
       "      <td>0</td>\n",
       "      <td>1</td>\n",
       "      <td>1</td>\n",
       "      <td>False</td>\n",
       "    </tr>\n",
       "    <tr>\n",
       "      <th>1</th>\n",
       "      <td>2019-01-02</td>\n",
       "      <td>3849.216309</td>\n",
       "      <td>3947.981201</td>\n",
       "      <td>3817.409424</td>\n",
       "      <td>3943.409424</td>\n",
       "      <td>3943.409424</td>\n",
       "      <td>5244856836</td>\n",
       "      <td>0.025989</td>\n",
       "      <td>0</td>\n",
       "      <td>1</td>\n",
       "      <td>2</td>\n",
       "      <td>False</td>\n",
       "    </tr>\n",
       "    <tr>\n",
       "      <th>2</th>\n",
       "      <td>2019-01-03</td>\n",
       "      <td>3931.048584</td>\n",
       "      <td>3935.685059</td>\n",
       "      <td>3826.222900</td>\n",
       "      <td>3836.741211</td>\n",
       "      <td>3836.741211</td>\n",
       "      <td>4530215219</td>\n",
       "      <td>-0.027050</td>\n",
       "      <td>1</td>\n",
       "      <td>2</td>\n",
       "      <td>-1</td>\n",
       "      <td>False</td>\n",
       "    </tr>\n",
       "    <tr>\n",
       "      <th>3</th>\n",
       "      <td>2019-01-04</td>\n",
       "      <td>3832.040039</td>\n",
       "      <td>3865.934570</td>\n",
       "      <td>3783.853760</td>\n",
       "      <td>3857.717529</td>\n",
       "      <td>3857.717529</td>\n",
       "      <td>4847965467</td>\n",
       "      <td>0.005467</td>\n",
       "      <td>0</td>\n",
       "      <td>3</td>\n",
       "      <td>1</td>\n",
       "      <td>False</td>\n",
       "    </tr>\n",
       "    <tr>\n",
       "      <th>4</th>\n",
       "      <td>2019-01-05</td>\n",
       "      <td>3851.973877</td>\n",
       "      <td>3904.903076</td>\n",
       "      <td>3836.900146</td>\n",
       "      <td>3845.194580</td>\n",
       "      <td>3845.194580</td>\n",
       "      <td>5137609824</td>\n",
       "      <td>-0.003246</td>\n",
       "      <td>1</td>\n",
       "      <td>4</td>\n",
       "      <td>-1</td>\n",
       "      <td>False</td>\n",
       "    </tr>\n",
       "  </tbody>\n",
       "</table>\n",
       "</div>"
      ],
      "text/plain": [
       "        Date         Open         High          Low        Close    Adj Close  \\\n",
       "0 2019-01-01  3746.713379  3850.913818  3707.231201  3843.520020  3843.520020   \n",
       "1 2019-01-02  3849.216309  3947.981201  3817.409424  3943.409424  3943.409424   \n",
       "2 2019-01-03  3931.048584  3935.685059  3826.222900  3836.741211  3836.741211   \n",
       "3 2019-01-04  3832.040039  3865.934570  3783.853760  3857.717529  3857.717529   \n",
       "4 2019-01-05  3851.973877  3904.903076  3836.900146  3845.194580  3845.194580   \n",
       "\n",
       "       Volume  pct_change  down  candle_change  consecutive_count  buy_signal  \n",
       "0  4324200990         NaN     0              1                  1       False  \n",
       "1  5244856836    0.025989     0              1                  2       False  \n",
       "2  4530215219   -0.027050     1              2                 -1       False  \n",
       "3  4847965467    0.005467     0              3                  1       False  \n",
       "4  5137609824   -0.003246     1              4                 -1       False  "
      ]
     },
     "execution_count": 79,
     "metadata": {},
     "output_type": "execute_result"
    }
   ],
   "source": [
    "#for 3 days with loss \n",
    "btc['buy_signal'] = (btc['down'] == 1) & (btc['consecutive_count']==-3)\n",
    "btc.head()"
   ]
  },
  {
   "cell_type": "code",
   "execution_count": 89,
   "metadata": {},
   "outputs": [
    {
     "data": {
      "text/html": [
       "<div>\n",
       "<style scoped>\n",
       "    .dataframe tbody tr th:only-of-type {\n",
       "        vertical-align: middle;\n",
       "    }\n",
       "\n",
       "    .dataframe tbody tr th {\n",
       "        vertical-align: top;\n",
       "    }\n",
       "\n",
       "    .dataframe thead th {\n",
       "        text-align: right;\n",
       "    }\n",
       "</style>\n",
       "<table border=\"1\" class=\"dataframe\">\n",
       "  <thead>\n",
       "    <tr style=\"text-align: right;\">\n",
       "      <th></th>\n",
       "      <th>Date</th>\n",
       "      <th>Open</th>\n",
       "      <th>High</th>\n",
       "      <th>Low</th>\n",
       "      <th>Close</th>\n",
       "      <th>Adj Close</th>\n",
       "      <th>Volume</th>\n",
       "      <th>pct_change</th>\n",
       "      <th>down</th>\n",
       "      <th>candle_change</th>\n",
       "      <th>consecutive_count</th>\n",
       "      <th>buy_signal</th>\n",
       "      <th>holding_position</th>\n",
       "    </tr>\n",
       "  </thead>\n",
       "  <tbody>\n",
       "    <tr>\n",
       "      <th>0</th>\n",
       "      <td>2019-01-01</td>\n",
       "      <td>3746.713379</td>\n",
       "      <td>3850.913818</td>\n",
       "      <td>3707.231201</td>\n",
       "      <td>3843.520020</td>\n",
       "      <td>3843.520020</td>\n",
       "      <td>4324200990</td>\n",
       "      <td>NaN</td>\n",
       "      <td>0</td>\n",
       "      <td>1</td>\n",
       "      <td>1</td>\n",
       "      <td>False</td>\n",
       "      <td>NaN</td>\n",
       "    </tr>\n",
       "    <tr>\n",
       "      <th>1</th>\n",
       "      <td>2019-01-02</td>\n",
       "      <td>3849.216309</td>\n",
       "      <td>3947.981201</td>\n",
       "      <td>3817.409424</td>\n",
       "      <td>3943.409424</td>\n",
       "      <td>3943.409424</td>\n",
       "      <td>5244856836</td>\n",
       "      <td>0.025989</td>\n",
       "      <td>0</td>\n",
       "      <td>1</td>\n",
       "      <td>2</td>\n",
       "      <td>False</td>\n",
       "      <td>NaN</td>\n",
       "    </tr>\n",
       "    <tr>\n",
       "      <th>2</th>\n",
       "      <td>2019-01-03</td>\n",
       "      <td>3931.048584</td>\n",
       "      <td>3935.685059</td>\n",
       "      <td>3826.222900</td>\n",
       "      <td>3836.741211</td>\n",
       "      <td>3836.741211</td>\n",
       "      <td>4530215219</td>\n",
       "      <td>-0.027050</td>\n",
       "      <td>1</td>\n",
       "      <td>2</td>\n",
       "      <td>-1</td>\n",
       "      <td>False</td>\n",
       "      <td>NaN</td>\n",
       "    </tr>\n",
       "    <tr>\n",
       "      <th>3</th>\n",
       "      <td>2019-01-04</td>\n",
       "      <td>3832.040039</td>\n",
       "      <td>3865.934570</td>\n",
       "      <td>3783.853760</td>\n",
       "      <td>3857.717529</td>\n",
       "      <td>3857.717529</td>\n",
       "      <td>4847965467</td>\n",
       "      <td>0.005467</td>\n",
       "      <td>0</td>\n",
       "      <td>3</td>\n",
       "      <td>1</td>\n",
       "      <td>False</td>\n",
       "      <td>NaN</td>\n",
       "    </tr>\n",
       "    <tr>\n",
       "      <th>4</th>\n",
       "      <td>2019-01-05</td>\n",
       "      <td>3851.973877</td>\n",
       "      <td>3904.903076</td>\n",
       "      <td>3836.900146</td>\n",
       "      <td>3845.194580</td>\n",
       "      <td>3845.194580</td>\n",
       "      <td>5137609824</td>\n",
       "      <td>-0.003246</td>\n",
       "      <td>1</td>\n",
       "      <td>4</td>\n",
       "      <td>-1</td>\n",
       "      <td>False</td>\n",
       "      <td>NaN</td>\n",
       "    </tr>\n",
       "  </tbody>\n",
       "</table>\n",
       "</div>"
      ],
      "text/plain": [
       "        Date         Open         High          Low        Close    Adj Close  \\\n",
       "0 2019-01-01  3746.713379  3850.913818  3707.231201  3843.520020  3843.520020   \n",
       "1 2019-01-02  3849.216309  3947.981201  3817.409424  3943.409424  3943.409424   \n",
       "2 2019-01-03  3931.048584  3935.685059  3826.222900  3836.741211  3836.741211   \n",
       "3 2019-01-04  3832.040039  3865.934570  3783.853760  3857.717529  3857.717529   \n",
       "4 2019-01-05  3851.973877  3904.903076  3836.900146  3845.194580  3845.194580   \n",
       "\n",
       "       Volume  pct_change  down  candle_change  consecutive_count  buy_signal  \\\n",
       "0  4324200990         NaN     0              1                  1       False   \n",
       "1  5244856836    0.025989     0              1                  2       False   \n",
       "2  4530215219   -0.027050     1              2                 -1       False   \n",
       "3  4847965467    0.005467     0              3                  1       False   \n",
       "4  5137609824   -0.003246     1              4                 -1       False   \n",
       "\n",
       "  holding_position  \n",
       "0              NaN  \n",
       "1              NaN  \n",
       "2              NaN  \n",
       "3              NaN  \n",
       "4              NaN  "
      ]
     },
     "execution_count": 89,
     "metadata": {},
     "output_type": "execute_result"
    }
   ],
   "source": [
    "btc['holding_position'] = btc['buy_signal'].shift().replace(False,np.nan).ffill()\n",
    "btc.head()"
   ]
  },
  {
   "cell_type": "code",
   "execution_count": 110,
   "metadata": {},
   "outputs": [],
   "source": [
    "btc['Sell_Signal_Long'] = btc['holding_position'] & (btc['down'] == 1)\n",
    "btc['Buy_Price'] = np.where(btc['buy_signal'], btc['Close'], np.nan)\n",
    "btc['Sell_Price'] = np.where(btc['Sell_Signal_Long'], btc['Close'], np.nan)\n",
    "btc['Buy_Price'] = btc['Buy_Price'].ffill() "
   ]
  },
  {
   "cell_type": "code",
   "execution_count": 112,
   "metadata": {},
   "outputs": [],
   "source": [
    "btc['buy_return'] = np.where(btc['Sell_Signal_Long'], btc['Sell_Price'] /btc['Buy_Price'] - 1, 0)\n",
    "#hasta aca check para longing after nth dayts, para este caso fue 3 loss days"
   ]
  },
  {
   "cell_type": "code",
   "execution_count": 114,
   "metadata": {},
   "outputs": [
    {
     "data": {
      "text/html": [
       "<div>\n",
       "<style scoped>\n",
       "    .dataframe tbody tr th:only-of-type {\n",
       "        vertical-align: middle;\n",
       "    }\n",
       "\n",
       "    .dataframe tbody tr th {\n",
       "        vertical-align: top;\n",
       "    }\n",
       "\n",
       "    .dataframe thead th {\n",
       "        text-align: right;\n",
       "    }\n",
       "</style>\n",
       "<table border=\"1\" class=\"dataframe\">\n",
       "  <thead>\n",
       "    <tr style=\"text-align: right;\">\n",
       "      <th></th>\n",
       "      <th>Date</th>\n",
       "      <th>Open</th>\n",
       "      <th>High</th>\n",
       "      <th>Low</th>\n",
       "      <th>Close</th>\n",
       "      <th>Adj Close</th>\n",
       "      <th>Volume</th>\n",
       "      <th>pct_change</th>\n",
       "      <th>down</th>\n",
       "      <th>candle_change</th>\n",
       "      <th>consecutive_count</th>\n",
       "      <th>buy_signal</th>\n",
       "      <th>holding_position</th>\n",
       "      <th>Sell_Signal_Long</th>\n",
       "      <th>buy_return</th>\n",
       "      <th>Buy_Price</th>\n",
       "      <th>Sell_Price</th>\n",
       "    </tr>\n",
       "  </thead>\n",
       "  <tbody>\n",
       "    <tr>\n",
       "      <th>24</th>\n",
       "      <td>2019-01-25</td>\n",
       "      <td>3607.390381</td>\n",
       "      <td>3612.927734</td>\n",
       "      <td>3575.597412</td>\n",
       "      <td>3599.765869</td>\n",
       "      <td>3599.765869</td>\n",
       "      <td>5265847539</td>\n",
       "      <td>-0.000305</td>\n",
       "      <td>1</td>\n",
       "      <td>20</td>\n",
       "      <td>-1</td>\n",
       "      <td>False</td>\n",
       "      <td>NaN</td>\n",
       "      <td>False</td>\n",
       "      <td>0.000000</td>\n",
       "      <td>NaN</td>\n",
       "      <td>NaN</td>\n",
       "    </tr>\n",
       "    <tr>\n",
       "      <th>25</th>\n",
       "      <td>2019-01-26</td>\n",
       "      <td>3599.715332</td>\n",
       "      <td>3654.933105</td>\n",
       "      <td>3593.345947</td>\n",
       "      <td>3602.460449</td>\n",
       "      <td>3602.460449</td>\n",
       "      <td>5098183235</td>\n",
       "      <td>0.000749</td>\n",
       "      <td>0</td>\n",
       "      <td>21</td>\n",
       "      <td>1</td>\n",
       "      <td>False</td>\n",
       "      <td>NaN</td>\n",
       "      <td>False</td>\n",
       "      <td>0.000000</td>\n",
       "      <td>NaN</td>\n",
       "      <td>NaN</td>\n",
       "    </tr>\n",
       "    <tr>\n",
       "      <th>26</th>\n",
       "      <td>2019-01-27</td>\n",
       "      <td>3604.687256</td>\n",
       "      <td>3612.671387</td>\n",
       "      <td>3567.245850</td>\n",
       "      <td>3583.965820</td>\n",
       "      <td>3583.965820</td>\n",
       "      <td>5570752966</td>\n",
       "      <td>-0.005134</td>\n",
       "      <td>1</td>\n",
       "      <td>22</td>\n",
       "      <td>-1</td>\n",
       "      <td>False</td>\n",
       "      <td>NaN</td>\n",
       "      <td>False</td>\n",
       "      <td>0.000000</td>\n",
       "      <td>NaN</td>\n",
       "      <td>NaN</td>\n",
       "    </tr>\n",
       "    <tr>\n",
       "      <th>27</th>\n",
       "      <td>2019-01-28</td>\n",
       "      <td>3584.283203</td>\n",
       "      <td>3586.750977</td>\n",
       "      <td>3439.232910</td>\n",
       "      <td>3470.450439</td>\n",
       "      <td>3470.450439</td>\n",
       "      <td>6908930483</td>\n",
       "      <td>-0.031673</td>\n",
       "      <td>1</td>\n",
       "      <td>22</td>\n",
       "      <td>-2</td>\n",
       "      <td>False</td>\n",
       "      <td>NaN</td>\n",
       "      <td>False</td>\n",
       "      <td>0.000000</td>\n",
       "      <td>NaN</td>\n",
       "      <td>NaN</td>\n",
       "    </tr>\n",
       "    <tr>\n",
       "      <th>28</th>\n",
       "      <td>2019-01-29</td>\n",
       "      <td>3468.870117</td>\n",
       "      <td>3476.065430</td>\n",
       "      <td>3400.819824</td>\n",
       "      <td>3448.116943</td>\n",
       "      <td>3448.116943</td>\n",
       "      <td>5897159493</td>\n",
       "      <td>-0.006435</td>\n",
       "      <td>1</td>\n",
       "      <td>22</td>\n",
       "      <td>-3</td>\n",
       "      <td>True</td>\n",
       "      <td>NaN</td>\n",
       "      <td>False</td>\n",
       "      <td>0.000000</td>\n",
       "      <td>3448.116943</td>\n",
       "      <td>NaN</td>\n",
       "    </tr>\n",
       "    <tr>\n",
       "      <th>29</th>\n",
       "      <td>2019-01-30</td>\n",
       "      <td>3443.896973</td>\n",
       "      <td>3495.174805</td>\n",
       "      <td>3429.387939</td>\n",
       "      <td>3486.181641</td>\n",
       "      <td>3486.181641</td>\n",
       "      <td>5955112627</td>\n",
       "      <td>0.011039</td>\n",
       "      <td>0</td>\n",
       "      <td>23</td>\n",
       "      <td>1</td>\n",
       "      <td>False</td>\n",
       "      <td>True</td>\n",
       "      <td>False</td>\n",
       "      <td>0.000000</td>\n",
       "      <td>3448.116943</td>\n",
       "      <td>NaN</td>\n",
       "    </tr>\n",
       "    <tr>\n",
       "      <th>30</th>\n",
       "      <td>2019-01-31</td>\n",
       "      <td>3485.409180</td>\n",
       "      <td>3504.804932</td>\n",
       "      <td>3447.915771</td>\n",
       "      <td>3457.792725</td>\n",
       "      <td>3457.792725</td>\n",
       "      <td>5831198271</td>\n",
       "      <td>-0.008143</td>\n",
       "      <td>1</td>\n",
       "      <td>24</td>\n",
       "      <td>-1</td>\n",
       "      <td>False</td>\n",
       "      <td>True</td>\n",
       "      <td>True</td>\n",
       "      <td>0.002806</td>\n",
       "      <td>3448.116943</td>\n",
       "      <td>3457.792725</td>\n",
       "    </tr>\n",
       "    <tr>\n",
       "      <th>31</th>\n",
       "      <td>2019-02-01</td>\n",
       "      <td>3460.547119</td>\n",
       "      <td>3501.954102</td>\n",
       "      <td>3431.591553</td>\n",
       "      <td>3487.945312</td>\n",
       "      <td>3487.945312</td>\n",
       "      <td>5422926707</td>\n",
       "      <td>0.008720</td>\n",
       "      <td>0</td>\n",
       "      <td>25</td>\n",
       "      <td>1</td>\n",
       "      <td>False</td>\n",
       "      <td>True</td>\n",
       "      <td>False</td>\n",
       "      <td>0.000000</td>\n",
       "      <td>3448.116943</td>\n",
       "      <td>NaN</td>\n",
       "    </tr>\n",
       "    <tr>\n",
       "      <th>32</th>\n",
       "      <td>2019-02-02</td>\n",
       "      <td>3484.625977</td>\n",
       "      <td>3523.287354</td>\n",
       "      <td>3467.574707</td>\n",
       "      <td>3521.060791</td>\n",
       "      <td>3521.060791</td>\n",
       "      <td>5071623601</td>\n",
       "      <td>0.009494</td>\n",
       "      <td>0</td>\n",
       "      <td>25</td>\n",
       "      <td>2</td>\n",
       "      <td>False</td>\n",
       "      <td>True</td>\n",
       "      <td>False</td>\n",
       "      <td>0.000000</td>\n",
       "      <td>3448.116943</td>\n",
       "      <td>NaN</td>\n",
       "    </tr>\n",
       "  </tbody>\n",
       "</table>\n",
       "</div>"
      ],
      "text/plain": [
       "         Date         Open         High          Low        Close  \\\n",
       "24 2019-01-25  3607.390381  3612.927734  3575.597412  3599.765869   \n",
       "25 2019-01-26  3599.715332  3654.933105  3593.345947  3602.460449   \n",
       "26 2019-01-27  3604.687256  3612.671387  3567.245850  3583.965820   \n",
       "27 2019-01-28  3584.283203  3586.750977  3439.232910  3470.450439   \n",
       "28 2019-01-29  3468.870117  3476.065430  3400.819824  3448.116943   \n",
       "29 2019-01-30  3443.896973  3495.174805  3429.387939  3486.181641   \n",
       "30 2019-01-31  3485.409180  3504.804932  3447.915771  3457.792725   \n",
       "31 2019-02-01  3460.547119  3501.954102  3431.591553  3487.945312   \n",
       "32 2019-02-02  3484.625977  3523.287354  3467.574707  3521.060791   \n",
       "\n",
       "      Adj Close      Volume  pct_change  down  candle_change  \\\n",
       "24  3599.765869  5265847539   -0.000305     1             20   \n",
       "25  3602.460449  5098183235    0.000749     0             21   \n",
       "26  3583.965820  5570752966   -0.005134     1             22   \n",
       "27  3470.450439  6908930483   -0.031673     1             22   \n",
       "28  3448.116943  5897159493   -0.006435     1             22   \n",
       "29  3486.181641  5955112627    0.011039     0             23   \n",
       "30  3457.792725  5831198271   -0.008143     1             24   \n",
       "31  3487.945312  5422926707    0.008720     0             25   \n",
       "32  3521.060791  5071623601    0.009494     0             25   \n",
       "\n",
       "    consecutive_count  buy_signal holding_position  Sell_Signal_Long  \\\n",
       "24                 -1       False              NaN             False   \n",
       "25                  1       False              NaN             False   \n",
       "26                 -1       False              NaN             False   \n",
       "27                 -2       False              NaN             False   \n",
       "28                 -3        True              NaN             False   \n",
       "29                  1       False             True             False   \n",
       "30                 -1       False             True              True   \n",
       "31                  1       False             True             False   \n",
       "32                  2       False             True             False   \n",
       "\n",
       "    buy_return    Buy_Price   Sell_Price  \n",
       "24    0.000000          NaN          NaN  \n",
       "25    0.000000          NaN          NaN  \n",
       "26    0.000000          NaN          NaN  \n",
       "27    0.000000          NaN          NaN  \n",
       "28    0.000000  3448.116943          NaN  \n",
       "29    0.000000  3448.116943          NaN  \n",
       "30    0.002806  3448.116943  3457.792725  \n",
       "31    0.000000  3448.116943          NaN  \n",
       "32    0.000000  3448.116943          NaN  "
      ]
     },
     "execution_count": 114,
     "metadata": {},
     "output_type": "execute_result"
    }
   ],
   "source": [
    "#btc[btc['buy_signal']==True] #2019-01-29\n",
    "btc[(btc.Date>='2019-01-25') & (btc.Date<='2019-02-02')]"
   ]
  },
  {
   "cell_type": "code",
   "execution_count": null,
   "metadata": {},
   "outputs": [],
   "source": [
    "def calculate_returns(data, n):\n",
    "    # Identify buy signals\n",
    "    data['Buy_Signal'] = (data['down'] == 1) & (data['Consecutive_Count'] == -n)\n",
    "    \n",
    "    # Identify sell signals for long positions (first red candle after a buy)\n",
    "    data['Sell_Signal_Long'] = data['Buy_Signal'].shift().replace(False, np.nan).ffill().shift().fillna(False) & (data['down'] == 1)\n",
    "    \n",
    "    # Identify short signals\n",
    "    data['Short_Signal'] = (data['down'] == 0) & (data['Consecutive_Count'] == n)\n",
    "    \n",
    "    # Identify cover signals for short positions (first green candle after a short)\n",
    "    data['Sell_Signal_Short'] = data['Short_Signal'].shift().replace(False, np.nan).ffill().shift().fillna(False) & (data['down'] == 0)\n",
    "    \n",
    "    # Calculate returns for long positions\n",
    "    data['Buy_Return'] = np.where(data['Buy_Signal'], data['Close'].shift(-1) / data['Close'] - 1, 0)\n",
    "    data['Sell_Return_Long'] = np.where(data['Sell_Signal_Long'], data['Close'] / data['Close'].shift(1) - 1, 0)\n",
    "    \n",
    "    # Calculate returns for short positions\n",
    "    data['Short_Return'] = np.where(data['Short_Signal'], data['Close'].shift(-1) / data['Close'] - 1, 0)\n",
    "    data['Sell_Return_Short'] = np.where(data['Sell_Signal_Short'], data['Close'].shift(1) / data['Close'] - 1, 0)\n",
    "    \n",
    "    return data\n"
   ]
  },
  {
   "cell_type": "code",
   "execution_count": 49,
   "metadata": {},
   "outputs": [
    {
     "name": "stdout",
     "output_type": "stream",
     "text": [
      "3843.52001953125\n"
     ]
    }
   ],
   "source": [
    "for i in range(len(btc)):\n",
    "    print(btc['Close'][i])\n",
    "    break"
   ]
  },
  {
   "cell_type": "code",
   "execution_count": 17,
   "metadata": {},
   "outputs": [
    {
     "data": {
      "image/png": "[encoded data removed]",
      "text/plain": [
       "<Figure size 1000x600 with 1 Axes>"
      ]
     },
     "metadata": {},
     "output_type": "display_data"
    }
   ],
   "source": [
    "# Define the bins to align with integer values\n",
    "bins = range(int(btc['consecutive_count'].min()) - 1, int(btc['consecutive_count'].max()) + 2)\n",
    "\n",
    "# Plot the histogram\n",
    "plt.figure(figsize=(10, 6))\n",
    "btc['consecutive_count'].plot(kind='hist', bins=bins, edgecolor='black')\n",
    "\n",
    "# Customize the x-axis ticks to show only integers\n",
    "plt.xticks(range(int(btc['consecutive_count'].min()), int(btc['consecutive_count'].max()) + 1))\n",
    "\n",
    "plt.xlabel('Consecutive Count')\n",
    "plt.ylabel('Frequency')\n",
    "plt.title('Histogram of Consecutive Candle Counts')\n",
    "plt.grid(True)\n",
    "plt.show()"
   ]
  },
  {
   "cell_type": "code",
   "execution_count": 15,
   "metadata": {},
   "outputs": [
    {
     "data": {
      "text/plain": [
       "<Axes: xlabel='consecutive_count'>"
      ]
     },
     "execution_count": 15,
     "metadata": {},
     "output_type": "execute_result"
    },
    {
     "data": {
      "image/png": "[encoded data removed]",
      "text/plain": [
       "<Figure size 640x480 with 1 Axes>"
      ]
     },
     "metadata": {},
     "output_type": "display_data"
    }
   ],
   "source": [
    "btc['consecutive_count'].value_counts().plot(kind='bar')"
   ]
  },
  {
   "cell_type": "code",
   "execution_count": 43,
   "metadata": {},
   "outputs": [
    {
     "data": {
      "text/plain": [
       "<Axes: ylabel='Frequency'>"
      ]
     },
     "execution_count": 43,
     "metadata": {},
     "output_type": "execute_result"
    },
    {
     "data": {
      "image/png": "[encoded data removed]",
      "text/plain": [
       "<Figure size 640x480 with 1 Axes>"
      ]
     },
     "metadata": {},
     "output_type": "display_data"
    }
   ],
   "source": [
    "btc['consecutive_count'].plot(kind='hist')"
   ]
  },
  {
   "cell_type": "code",
   "execution_count": 6,
   "metadata": {},
   "outputs": [
    {
     "data": {
      "text/plain": [
       "170"
      ]
     },
     "execution_count": 6,
     "metadata": {},
     "output_type": "execute_result"
    }
   ],
   "source": [
    "up_days = len(btc[btc['down']==0])\n",
    "up_days"
   ]
  },
  {
   "cell_type": "code",
   "execution_count": 65,
   "metadata": {},
   "outputs": [
    {
     "data": {
      "text/plain": [
       "46"
      ]
     },
     "execution_count": 65,
     "metadata": {},
     "output_type": "execute_result"
    }
   ],
   "source": [
    "((btc['down']==1) & (btc['down'].shift(-1) == 1) & (btc['down'].shift(-2) == 0)).sum() #parenthesis fucked up my boolean condition"
   ]
  },
  {
   "cell_type": "code",
   "execution_count": 38,
   "metadata": {},
   "outputs": [
    {
     "data": {
      "text/plain": [
       "0.5294117647058824"
      ]
     },
     "execution_count": 38,
     "metadata": {},
     "output_type": "execute_result"
    }
   ],
   "source": [
    "down_up = ((btc['down'] == 1) & (btc['down'].shift(-1)==0)).sum()\n",
    "down_up/len(btc[btc['down']==0])"
   ]
  },
  {
   "cell_type": "code",
   "execution_count": 67,
   "metadata": {},
   "outputs": [
    {
     "data": {
      "text/plain": [
       "0.27058823529411763"
      ]
     },
     "execution_count": 67,
     "metadata": {},
     "output_type": "execute_result"
    }
   ],
   "source": [
    "down_down_up = ((btc['down']==1) & (btc['down'].shift(-1) == 1) & (btc['down'].shift(-2) == 0)).sum()\n",
    "down_down_up/len(btc[btc['down']==0])"
   ]
  },
  {
   "cell_type": "code",
   "execution_count": 73,
   "metadata": {},
   "outputs": [
    {
     "data": {
      "text/plain": [
       "25"
      ]
     },
     "execution_count": 73,
     "metadata": {},
     "output_type": "execute_result"
    }
   ],
   "source": [
    "dddu = ((btc['down']==1) & (btc['down'].shift(-1) == 1) & (btc['down'].shift(-2) == 1) & (btc['down'].shift(-3) == 0)).sum()\n",
    "dddu"
   ]
  },
  {
   "cell_type": "code",
   "execution_count": 38,
   "metadata": {},
   "outputs": [],
   "source": [
    "pattern_series = ((btc['down'] == 1) & \n",
    "                  (btc['down'].shift(-1) == 1) & \n",
    "                  (btc['down'].shift(-2) == 1) & \n",
    "                  (btc['down'].shift(-3) == 1) & \n",
    "                  (btc['down'].shift(-4) == 1) & \n",
    "                  (btc['down'].shift(-5) == 0)).sum()\n",
    "\n",
    "denom = ((btc['down'] == 1) & \n",
    "        (btc['down'].shift(-1) == 1) & \n",
    "        (btc['down'].shift(-2) == 1) & \n",
    "        (btc['down'].shift(-3) == 1) & \n",
    "        (btc['down'].shift(-4) == 1) ).sum() \n"
   ]
  },
  {
   "cell_type": "code",
   "execution_count": 39,
   "metadata": {},
   "outputs": [
    {
     "data": {
      "text/plain": [
       "(8, 17)"
      ]
     },
     "execution_count": 39,
     "metadata": {},
     "output_type": "execute_result"
    }
   ],
   "source": [
    "pattern_series,denom"
   ]
  },
  {
   "cell_type": "code",
   "execution_count": 56,
   "metadata": {},
   "outputs": [
    {
     "data": {
      "text/plain": [
       "46"
      ]
     },
     "execution_count": 56,
     "metadata": {},
     "output_type": "execute_result"
    }
   ],
   "source": [
    "pattern = [1, 1, 0]\n",
    "sequence_count = 0\n",
    "\n",
    "# Convert the 'down' column to a list for processing\n",
    "down_list = btc['down'].tolist()\n",
    "\n",
    "# Check for the pattern in the list using a sliding window approach\n",
    "for i in range(len(down_list) - 2):\n",
    "    # Check if the slice from the list matches the pattern\n",
    "    if down_list[i:i+3] == pattern:\n",
    "        sequence_count += 1\n",
    "sequence_count"
   ]
  },
  {
   "cell_type": "markdown",
   "metadata": {},
   "source": [
    "# Backtesting"
   ]
  },
  {
   "cell_type": "code",
   "execution_count": 31,
   "metadata": {},
   "outputs": [],
   "source": [
    "from backtesting import Backtest,Strategy\n"
   ]
  },
  {
   "cell_type": "code",
   "execution_count": 21,
   "metadata": {},
   "outputs": [
    {
     "data": {
      "text/plain": [
       "Date\n",
       "2022-01-01    0\n",
       "2022-01-02    1\n",
       "2022-01-03    1\n",
       "2022-01-04    1\n",
       "2022-01-05    1\n",
       "             ..\n",
       "2022-12-27    1\n",
       "2022-12-28    1\n",
       "2022-12-29    0\n",
       "2022-12-30    1\n",
       "2022-12-31    1\n",
       "Name: down, Length: 365, dtype: int64"
      ]
     },
     "execution_count": 21,
     "metadata": {},
     "output_type": "execute_result"
    }
   ],
   "source": [
    "btc.down"
   ]
  },
  {
   "cell_type": "code",
   "execution_count": 58,
   "metadata": {},
   "outputs": [],
   "source": [
    "class BTCstrat(Strategy):\n",
    "    def init(self):\n",
    "        self.entry_signal = False\n",
    "        pass\n",
    "\n",
    "    def next(self):\n",
    "        if len(self.data) < 6 :\n",
    "            return #not enough data points\n",
    "\n",
    "        if self.entry_signal:    \n",
    "            if self.data.down[-1] == 1:\n",
    "                print(\"Selling\")\n",
    "                self.position.close()\n",
    "                self.sell()\n",
    "                self.entry_signal = False \n",
    "    \n",
    "        # Check the pattern of 5 down days followed by an up day\n",
    "        if not self.position and not self.entry_signal:\n",
    "            if (self.data.down[-6] == 1 and \n",
    "                self.data.down[-5] == 1 and \n",
    "                self.data.down[-4] == 1 and \n",
    "                self.data.down[-3] == 1 and \n",
    "                self.data.down[-2] == 1 and \n",
    "                self.data.down[-1] == 0):\n",
    "\n",
    "                print(\"Longing\")    \n",
    "                # Enter long position\n",
    "                self.position.close()\n",
    "                self.buy()\n",
    "                self.entry_signal = True "
   ]
  },
  {
   "cell_type": "code",
   "execution_count": 62,
   "metadata": {},
   "outputs": [
    {
     "name": "stdout",
     "output_type": "stream",
     "text": [
      "Longing\n",
      "Selling\n"
     ]
    }
   ],
   "source": [
    "bt = Backtest(btc,BTCstrat,cash=100000,commission=0.01)\n",
    "stats = bt.run()"
   ]
  },
  {
   "cell_type": "code",
   "execution_count": 63,
   "metadata": {},
   "outputs": [
    {
     "name": "stderr",
     "output_type": "stream",
     "text": [
      "/Users/diegotorpoco/Documents/peopl/peoplvenv/lib/python3.9/site-packages/backtesting/_plotting.py:250: UserWarning: DatetimeFormatter scales now only accept a single format. Using the first provided: '%d %b'\n",
      "  formatter=DatetimeTickFormatter(days=['%d %b', '%a %d'],\n",
      "/Users/diegotorpoco/Documents/peopl/peoplvenv/lib/python3.9/site-packages/backtesting/_plotting.py:250: UserWarning: DatetimeFormatter scales now only accept a single format. Using the first provided: '%m/%Y'\n",
      "  formatter=DatetimeTickFormatter(days=['%d %b', '%a %d'],\n",
      "/Users/diegotorpoco/Documents/peopl/peoplvenv/lib/python3.9/site-packages/backtesting/_plotting.py:659: UserWarning: found multiple competing values for 'toolbar.active_drag' property; using the latest value\n",
      "  fig = gridplot(\n",
      "/Users/diegotorpoco/Documents/peopl/peoplvenv/lib/python3.9/site-packages/backtesting/_plotting.py:659: UserWarning: found multiple competing values for 'toolbar.active_scroll' property; using the latest value\n",
      "  fig = gridplot(\n"
     ]
    },
    {
     "data": {
      "text/html": [
       "<div style=\"display: table;\"><div style=\"display: table-row;\"><div style=\"display: table-cell;\"><b title=\"bokeh.models.plots.GridPlot\">GridPlot</b>(</div><div style=\"display: table-cell;\">id&nbsp;=&nbsp;'p1653', <span id=\"p1680\" style=\"cursor: pointer;\">&hellip;)</span></div></div><div class=\"p1679\" style=\"display: none;\"><div style=\"display: table-cell;\"></div><div style=\"display: table-cell;\">align&nbsp;=&nbsp;'auto',</div></div><div class=\"p1679\" style=\"display: none;\"><div style=\"display: table-cell;\"></div><div style=\"display: table-cell;\">aspect_ratio&nbsp;=&nbsp;None,</div></div><div class=\"p1679\" style=\"display: none;\"><div style=\"display: table-cell;\"></div><div style=\"display: table-cell;\">children&nbsp;=&nbsp;[(figure(id='p1394', ...), 0, 0), (figure(id='p1491', ...), 1, 0), (figure(id='p1350', ...), 2, 0), (figure(id='p1546', ...), 3, 0)],</div></div><div class=\"p1679\" style=\"display: none;\"><div style=\"display: table-cell;\"></div><div style=\"display: table-cell;\">cols&nbsp;=&nbsp;None,</div></div><div class=\"p1679\" style=\"display: none;\"><div style=\"display: table-cell;\"></div><div style=\"display: table-cell;\">context_menu&nbsp;=&nbsp;None,</div></div><div class=\"p1679\" style=\"display: none;\"><div style=\"display: table-cell;\"></div><div style=\"display: table-cell;\">css_classes&nbsp;=&nbsp;[],</div></div><div class=\"p1679\" style=\"display: none;\"><div style=\"display: table-cell;\"></div><div style=\"display: table-cell;\">css_variables&nbsp;=&nbsp;{},</div></div><div class=\"p1679\" style=\"display: none;\"><div style=\"display: table-cell;\"></div><div style=\"display: table-cell;\">disabled&nbsp;=&nbsp;False,</div></div><div class=\"p1679\" style=\"display: none;\"><div style=\"display: table-cell;\"></div><div style=\"display: table-cell;\">elements&nbsp;=&nbsp;[],</div></div><div class=\"p1679\" style=\"display: none;\"><div style=\"display: table-cell;\"></div><div style=\"display: table-cell;\">flow_mode&nbsp;=&nbsp;'block',</div></div><div class=\"p1679\" style=\"display: none;\"><div style=\"display: table-cell;\"></div><div style=\"display: table-cell;\">height&nbsp;=&nbsp;None,</div></div><div class=\"p1679\" style=\"display: none;\"><div style=\"display: table-cell;\"></div><div style=\"display: table-cell;\">height_policy&nbsp;=&nbsp;'auto',</div></div><div class=\"p1679\" style=\"display: none;\"><div style=\"display: table-cell;\"></div><div style=\"display: table-cell;\">js_event_callbacks&nbsp;=&nbsp;{},</div></div><div class=\"p1679\" style=\"display: none;\"><div style=\"display: table-cell;\"></div><div style=\"display: table-cell;\">js_property_callbacks&nbsp;=&nbsp;{},</div></div><div class=\"p1679\" style=\"display: none;\"><div style=\"display: table-cell;\"></div><div style=\"display: table-cell;\">margin&nbsp;=&nbsp;None,</div></div><div class=\"p1679\" style=\"display: none;\"><div style=\"display: table-cell;\"></div><div style=\"display: table-cell;\">max_height&nbsp;=&nbsp;None,</div></div><div class=\"p1679\" style=\"display: none;\"><div style=\"display: table-cell;\"></div><div style=\"display: table-cell;\">max_width&nbsp;=&nbsp;None,</div></div><div class=\"p1679\" style=\"display: none;\"><div style=\"display: table-cell;\"></div><div style=\"display: table-cell;\">min_height&nbsp;=&nbsp;None,</div></div><div class=\"p1679\" style=\"display: none;\"><div style=\"display: table-cell;\"></div><div style=\"display: table-cell;\">min_width&nbsp;=&nbsp;None,</div></div><div class=\"p1679\" style=\"display: none;\"><div style=\"display: table-cell;\"></div><div style=\"display: table-cell;\">name&nbsp;=&nbsp;None,</div></div><div class=\"p1679\" style=\"display: none;\"><div style=\"display: table-cell;\"></div><div style=\"display: table-cell;\">resizable&nbsp;=&nbsp;False,</div></div><div class=\"p1679\" style=\"display: none;\"><div style=\"display: table-cell;\"></div><div style=\"display: table-cell;\">rows&nbsp;=&nbsp;None,</div></div><div class=\"p1679\" style=\"display: none;\"><div style=\"display: table-cell;\"></div><div style=\"display: table-cell;\">sizing_mode&nbsp;=&nbsp;'stretch_width',</div></div><div class=\"p1679\" style=\"display: none;\"><div style=\"display: table-cell;\"></div><div style=\"display: table-cell;\">spacing&nbsp;=&nbsp;0,</div></div><div class=\"p1679\" style=\"display: none;\"><div style=\"display: table-cell;\"></div><div style=\"display: table-cell;\">styles&nbsp;=&nbsp;{},</div></div><div class=\"p1679\" style=\"display: none;\"><div style=\"display: table-cell;\"></div><div style=\"display: table-cell;\">stylesheets&nbsp;=&nbsp;[],</div></div><div class=\"p1679\" style=\"display: none;\"><div style=\"display: table-cell;\"></div><div style=\"display: table-cell;\">subscribed_events&nbsp;=&nbsp;PropertyValueSet(),</div></div><div class=\"p1679\" style=\"display: none;\"><div style=\"display: table-cell;\"></div><div style=\"display: table-cell;\">syncable&nbsp;=&nbsp;True,</div></div><div class=\"p1679\" style=\"display: none;\"><div style=\"display: table-cell;\"></div><div style=\"display: table-cell;\">tags&nbsp;=&nbsp;[],</div></div><div class=\"p1679\" style=\"display: none;\"><div style=\"display: table-cell;\"></div><div style=\"display: table-cell;\">toolbar&nbsp;=&nbsp;Toolbar(id='p1652', ...),</div></div><div class=\"p1679\" style=\"display: none;\"><div style=\"display: table-cell;\"></div><div style=\"display: table-cell;\">toolbar_location&nbsp;=&nbsp;'right',</div></div><div class=\"p1679\" style=\"display: none;\"><div style=\"display: table-cell;\"></div><div style=\"display: table-cell;\">visible&nbsp;=&nbsp;True,</div></div><div class=\"p1679\" style=\"display: none;\"><div style=\"display: table-cell;\"></div><div style=\"display: table-cell;\">width&nbsp;=&nbsp;None,</div></div><div class=\"p1679\" style=\"display: none;\"><div style=\"display: table-cell;\"></div><div style=\"display: table-cell;\">width_policy&nbsp;=&nbsp;'auto')</div></div></div>\n",
       "<script>\n",
       "(function() {\n",
       "  let expanded = false;\n",
       "  const ellipsis = document.getElementById(\"p1680\");\n",
       "  ellipsis.addEventListener(\"click\", function() {\n",
       "    const rows = document.getElementsByClassName(\"p1679\");\n",
       "    for (let i = 0; i < rows.length; i++) {\n",
       "      const el = rows[i];\n",
       "      el.style.display = expanded ? \"none\" : \"table-row\";\n",
       "    }\n",
       "    ellipsis.innerHTML = expanded ? \"&hellip;)\" : \"&lsaquo;&lsaquo;&lsaquo;\";\n",
       "    expanded = !expanded;\n",
       "  });\n",
       "})();\n",
       "</script>\n"
      ],
      "text/plain": [
       "GridPlot(id='p1653', ...)"
      ]
     },
     "execution_count": 63,
     "metadata": {},
     "output_type": "execute_result"
    }
   ],
   "source": [
    "bt.plot()"
   ]
  },
  {
   "cell_type": "code",
   "execution_count": 64,
   "metadata": {},
   "outputs": [
    {
     "name": "stdout",
     "output_type": "stream",
     "text": [
      "Start                     2022-01-01 00:00:00\n",
      "End                       2022-12-31 00:00:00\n",
      "Duration                    364 days 00:00:00\n",
      "Exposure Time [%]                   97.808219\n",
      "Equity Final [$]                148930.145781\n",
      "Equity Peak [$]                 150562.925078\n",
      "Return [%]                          48.930146\n",
      "Buy & Hold Return [%]              -65.299639\n",
      "Return (Ann.) [%]                   48.930146\n",
      "Volatility (Ann.) [%]               53.220801\n",
      "Sharpe Ratio                          0.91938\n",
      "Sortino Ratio                        2.196697\n",
      "Calmar Ratio                         2.204958\n",
      "Max. Drawdown [%]                   -22.19096\n",
      "Avg. Drawdown [%]                   -4.799001\n",
      "Max. Drawdown Duration      106 days 00:00:00\n",
      "Avg. Drawdown Duration       27 days 00:00:00\n",
      "# Trades                                    2\n",
      "Win Rate [%]                             50.0\n",
      "Best Trade [%]                      59.895779\n",
      "Worst Trade [%]                     -0.788967\n",
      "Avg. Trade [%]                      25.950091\n",
      "Max. Trade Duration         354 days 00:00:00\n",
      "Avg. Trade Duration         178 days 00:00:00\n",
      "Profit Factor                       75.916696\n",
      "Expectancy [%]                      29.553406\n",
      "SQN                                  0.973533\n",
      "_strategy                            BTCstrat\n",
      "_equity_curve                             ...\n",
      "_trades                      Size  EntryBa...\n",
      "dtype: object\n"
     ]
    }
   ],
   "source": [
    "print(stats)"
   ]
  },
  {
   "cell_type": "code",
   "execution_count": null,
   "metadata": {},
   "outputs": [],
   "source": []
  }
 ],
 "metadata": {
  "kernelspec": {
   "display_name": "peoplvenv",
   "language": "python",
   "name": "python3"
  },
  "language_info": {
   "codemirror_mode": {
    "name": "ipython",
    "version": 3
   },
   "file_extension": ".py",
   "mimetype": "text/x-python",
   "name": "python",
   "nbconvert_exporter": "python",
   "pygments_lexer": "ipython3",
   "version": "3.10.11"
  }
 },
 "nbformat": 4,
 "nbformat_minor": 2
}
